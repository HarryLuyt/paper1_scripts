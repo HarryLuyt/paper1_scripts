{
 "cells": [
  {
   "cell_type": "code",
   "execution_count": 23,
   "metadata": {},
   "outputs": [],
   "source": [
    "import os\n",
    "import re\n",
    "import glob\n",
    "import xarray as xr\n",
    "import pandas as pd\n",
    "import numpy as np\n",
    "import matplotlib.pyplot as plt\n",
    "import datetime"
   ]
  },
  {
   "cell_type": "code",
   "execution_count": 24,
   "metadata": {},
   "outputs": [],
   "source": [
    "plt.rcParams['figure.facecolor']='white'\n",
    "plt.rcParams['axes.facecolor']='white'"
   ]
  },
  {
   "cell_type": "markdown",
   "metadata": {},
   "source": [
    "# 1. Attempt using already-processed obs"
   ]
  },
  {
   "cell_type": "code",
   "execution_count": null,
   "metadata": {},
   "outputs": [],
   "source": [
    "basedir = '/media/harry/HarryExt/PhD/paper1/Data/processed_obs_example/avhrr17/'\n",
    "# sensors = ['AVHRR17_G', 'AVHRR18_G', 'AVHRR19_G', 'AVHRRMTA_G']\n",
    "\n",
    "# avhrr17Timeseries = pd.DataFrame(columns=['Date', 'Mean', 'Count'])\n",
    "avhrr17Timeseries = []\n",
    "avhrr18Timeseries = []\n",
    "avhrr19Timeseries = []\n",
    "avhrrmtaTimeseries = []\n",
    "allTimeseries = []\n",
    "\n",
    "# avhrr17Timeseries = np.zeros(2,1,1)\n",
    "# avhrr18Timeseries = np.zeros(2,1,1)\n",
    "# avhrr19Timeseries = np.zeros(2,1,1)\n",
    "# avhrrmtaTimeseries = np.zeros(2,1,1)\n",
    "# allTimeseries = np.zeros(2,1,1)\n",
    "\n",
    "# startDate = datetime.date(2008, 12, 31)\n",
    "# # endDate = datetime.date(2012, 4, 8)\n",
    "# endDate = datetime.date(2009, 1, 1)\n",
    "# dayIncrement = datetime.timedelta(days=1)\n",
    "\n",
    "# currentDate = startDate\n",
    "\n",
    "while currentDate <= endDate:\n",
    "    print(currentDate)\n",
    "    totalObs = []\n",
    "    dataDir = os.path.join(basedir, 'Y{0}/M{1:02}/D{2:02}/'.format(currentDate.year, currentDate.month, currentDate.day))\n",
    "    \n",
    "    allFiles = glob.glob(dataDir + '/*.nc')\n",
    "    avhrr17Files = glob.glob(dataDir + '/*AVHRR17*.nc')\n",
    "    avhrr18Files = glob.glob(dataDir + '/*AVHRR18*.nc')\n",
    "    avhrr19Files = glob.glob(dataDir + '/*AVHRR19*.nc')\n",
    "    avhrrmtaFiles = glob.glob(dataDir + '/*AVHRRMTA*.nc')\n",
    "    \n",
    "#     if len(avhrr17Files) > 0:\n",
    "#         avhrr17data = xr.open_mfdataset(avhrr17Files)\n",
    "#         avhrr17data = avhrr17data.where((avhrr17data.lat > -50) & (avhrr17data.lat < -10) & (avhrr17data.lon > 0) & (avhrr17data.lon < 60))\n",
    "#         avhrr17data = avhrr17data.where(avhrr17data['quality_level']==5)\n",
    "#         avhrr17Timeseries.append([currentDate, np.mean(avhrr17data['sea_surface_temperature_depth']).values, avhrr17data['sea_surface_temperature_depth'].count().values])\n",
    "#         totalObs.append(np.ravel(avhrr17data['sea_surface_temperature_depth']))\n",
    "        \n",
    "#     if len(avhrr18Files) > 0:\n",
    "#         avhrr18data = xr.open_mfdataset(avhrr18Files)\n",
    "#         avhrr18data = avhrr18data.where((avhrr18data.lat > -50) & (avhrr18data.lat < -10) & (avhrr18data.lon > 0) & (avhrr18data.lon < 60))\n",
    "#         avhrr18data = avhrr18data.where(avhrr18data['quality_level']==5)\n",
    "#         avhrr18Timeseries.append([currentDate, np.mean(avhrr18data['sea_surface_temperature_depth']).values, avhrr18data['sea_surface_temperature_depth'].count().values])\n",
    "#         totalObs.append(np.ravel(avhrr18data['sea_surface_temperature_depth']))\n",
    "        \n",
    "#     if len(avhrr19Files) > 0:\n",
    "#         avhrr19data = xr.open_mfdataset(avhrr19Files)\n",
    "#         avhrr19data = avhrr19data.where((avhrr19data.lat > -50) & (avhrr19data.lat < -10) & (avhrr19data.lon > 0) & (avhrr19data.lon < 60))\n",
    "#         avhrr19data = avhrr19data.where(avhrr19data['quality_level']==5)\n",
    "#         avhrr19Timeseries.append([currentDate, np.mean(avhrr19data['sea_surface_temperature_depth']).values, avhrr19data['sea_surface_temperature_depth'].count().values])\n",
    "#         totalObs.append(np.ravel(avhrr19data['sea_surface_temperature_depth']))\n",
    "        \n",
    "#     if len(avhrrmtaFiles) > 0:\n",
    "#         avhrrmtadata = xr.open_mfdataset(avhrrmtaFiles)\n",
    "#         avhrrmtadata = avhrrmtadata.where((avhrrmtadata.lat > -50) & (avhrrmtadata.lat < -10) & (avhrrmtadata.lon > 0) & (avhrrmtadata.lon < 60))\n",
    "#         avhrrmtadata = avhrrmtadata.where(avhrrmtadata['quality_level']==5)\n",
    "#         avhrrmtaTimeseries.append([currentDate, np.mean(avhrrmtadata['sea_surface_temperature_depth']).values, avhrrmtadata['sea_surface_temperature_depth'].count().values])\n",
    "#         totalObs.append(np.ravel(avhrrmtadata['sea_surface_temperature_depth']))\n",
    "\n",
    "#     allTimeseries.append([currentDate, np.mean(totalObs), count(totalObs)])\n",
    "#     os.chdir(dataDir)\n",
    "#     print(files)\n",
    "#     print('Year = {0}, Month = {1}, Day = {2}'.format(currentDate.year, currentDate.month, currentDate.day))\n",
    "    currentDate += dayIncrement\n",
    "\n",
    "# pd.DataFrame(avhrr17Timeseries, columns=['Date', 'Mean', 'Count'])\n",
    "# pd.DataFrame(avhrr18Timeseries, columns=['Date', 'Mean', 'Count'])\n",
    "# pd.DataFrame(avhrr19Timeseries, columns=['Date', 'Mean', 'Count'])\n",
    "# pd.DataFrame(avhrrmtaTimeseries, columns=['Date', 'Mean', 'Count'])\n",
    "# pd.DataFrame(allTimeseries, columns=['Date', 'Mean', 'Count'])"
   ]
  },
  {
   "cell_type": "code",
   "execution_count": 11,
   "metadata": {},
   "outputs": [
    {
     "data": {
      "text/plain": [
       "'/media/harry/HarryExt/PhD/paper1/Data/processed_obs_example/AVHRR17'"
      ]
     },
     "execution_count": 11,
     "metadata": {},
     "output_type": "execute_result"
    }
   ],
   "source": [
    "sensor = 'AVHRR17'\n",
    "basedir = os.path.join('/media/harry/HarryExt/PhD/paper1/Data/processed_obs_example/', sensor)\n",
    "basedir"
   ]
  },
  {
   "cell_type": "code",
   "execution_count": 12,
   "metadata": {
    "scrolled": true
   },
   "outputs": [
    {
     "name": "stdout",
     "output_type": "stream",
     "text": [
      "ESA_CCI_L2P_AVHRR17_G_20090929.nc\n",
      "2009-09-29 00:00:00\n",
      "ESA_CCI_L2P_AVHRR17_G_20090930.nc\n",
      "2009-09-30 00:00:00\n",
      "ESA_CCI_L2P_AVHRR17_G_20091001.nc\n",
      "2009-10-01 00:00:00\n",
      "ESA_CCI_L2P_AVHRR17_G_20091002.nc\n",
      "2009-10-02 00:00:00\n",
      "ESA_CCI_L2P_AVHRR17_G_20091003.nc\n",
      "2009-10-03 00:00:00\n",
      "ESA_CCI_L2P_AVHRR17_G_20091004.nc\n",
      "2009-10-04 00:00:00\n"
     ]
    },
    {
     "data": {
      "image/png": "[encoded data removed]",
      "text/plain": [
       "<Figure size 576x216 with 2 Axes>"
      ]
     },
     "metadata": {},
     "output_type": "display_data"
    }
   ],
   "source": [
    "sensor = 'AVHRR17'\n",
    "basedir = os.path.join('/media/harry/HarryExt/PhD/paper1/Data/processed_obs_example/', sensor)\n",
    "\n",
    "# Initialise timeseries\n",
    "sensor_timeseries = []\n",
    "\n",
    "# Get list of obs files\n",
    "allFiles = sorted(glob.glob(basedir + '/*.nc'))\n",
    "\n",
    "for filename in allFiles:\n",
    "    print(os.path.basename(filename))\n",
    "    date = pd.to_datetime(re.search('\\d{4}\\d{2}\\d{2}', filename)[0], format='%Y%m%d')\n",
    "    print(date)\n",
    "    ds = xr.open_dataset(filename)\n",
    "    ds = ds.to_dataframe()\n",
    "    ds = ds[(ds['latitude'] <= -10) & (ds['latitude'] >= -50 ) & ((ds['longitude'] <= 70) & (ds['longitude'] >= 0))]\n",
    "    temp_mean = np.mean(ds['along_track_SST'])\n",
    "    obs_count = ds['along_track_SST'].count()\n",
    "    sensor_timeseries.append([date, temp_mean - 273.15, obs_count])\n",
    "    \n",
    "sensor_timeseries = pd.DataFrame(sensor_timeseries, columns=['Date', 'Mean', 'Count'])\n",
    "\n",
    "#-----------------------------------------------------------------------\n",
    "# Plotting\n",
    "\n",
    "fig, axs = plt.subplots(2, 1, figsize=(8,3), sharex=True)\n",
    "plt.suptitle('{0}'.format(sensor), y=1.02)\n",
    "\n",
    "# Plotting means\n",
    "axs[0].plot(sensor_timeseries['Date'], sensor_timeseries['Mean'], label='Mean', c='k', linewidth=1)\n",
    "axs[0].set_ylabel('Mean ($^{\\circ}$C)')\n",
    "axs[0].grid(axis='y', ls='dashed', alpha=0.3)\n",
    "\n",
    "# Ploting no. of obs\n",
    "axs[1].plot(sensor_timeseries['Date'], sensor_timeseries['Count'], c='k', label='L2 obs', linewidth=1)\n",
    "axs[1].ticklabel_format(axis='y', style='sci', scilimits=(5,5), useOffset=False, useLocale=True, useMathText=True)\n",
    "axs[1].grid(axis='y', ls='dashed', alpha=0.3)\n",
    "axs[1].set_ylabel('# obs')\n",
    "axs[1].set_xlabel('Date')\n",
    "\n",
    "plt.tight_layout(h_pad=0.1)\n",
    "\n",
    "# fig.savefig('../Figures/{0}_mean_count.png'.format(sensor), dpi=300, bbox_inches='tight')"
   ]
  },
  {
   "cell_type": "code",
   "execution_count": 7,
   "metadata": {},
   "outputs": [
    {
     "data": {
      "text/plain": [
       "DatetimeIndex(['2009-01-01', '2009-01-02', '2009-01-03', '2009-01-04',\n",
       "               '2009-01-05', '2009-01-06', '2009-01-07', '2009-01-08',\n",
       "               '2009-01-09', '2009-01-10',\n",
       "               ...\n",
       "               '2009-12-22', '2009-12-23', '2009-12-24', '2009-12-25',\n",
       "               '2009-12-26', '2009-12-27', '2009-12-28', '2009-12-29',\n",
       "               '2009-12-30', '2009-12-31'],\n",
       "              dtype='datetime64[ns]', length=365, freq='D')"
      ]
     },
     "execution_count": 7,
     "metadata": {},
     "output_type": "execute_result"
    }
   ],
   "source": [
    "pd.date_range(start='01/01/2009', end='31/12/2009')"
   ]
  },
  {
   "cell_type": "code",
   "execution_count": 4,
   "metadata": {},
   "outputs": [
    {
     "data": {
      "text/plain": [
       "[<matplotlib.lines.Line2D at 0x7fa64cff7ad0>]"
      ]
     },
     "execution_count": 4,
     "metadata": {},
     "output_type": "execute_result"
    },
    {
     "data": {
      "image/png": "[encoded data removed]",
      "text/plain": [
       "<Figure size 432x288 with 1 Axes>"
      ]
     },
     "metadata": {},
     "output_type": "display_data"
    }
   ],
   "source": [
    "plt.plot(avhrr17Timeseries['Date'], avhrr17Timeseries['Mean'])"
   ]
  },
  {
   "cell_type": "markdown",
   "metadata": {},
   "source": [
    "## Plotting"
   ]
  },
  {
   "cell_type": "code",
   "execution_count": 8,
   "metadata": {
    "scrolled": false
   },
   "outputs": [],
   "source": [
    "dates = pd.date_range(start='01/01/2009', end='31/12/2009')\n",
    "means = np.random.uniform(15, 25, size=(365))\n",
    "counts = np.random.randint(24000, 45000, 365, dtype=int)\n",
    "\n",
    "test_series = pd.DataFrame(data={'Dates':dates,'Means':means, 'Counts':counts})"
   ]
  },
  {
   "cell_type": "code",
   "execution_count": 34,
   "metadata": {},
   "outputs": [
    {
     "name": "stdout",
     "output_type": "stream",
     "text": [
      "Loading and plotting...\n"
     ]
    },
    {
     "data": {
      "image/png": "[encoded data removed]",
      "text/plain": [
       "<Figure size 576x144 with 2 Axes>"
      ]
     },
     "metadata": {},
     "output_type": "display_data"
    }
   ],
   "source": [
    "fig, axs = plt.subplots(1, 1, figsize=(8,2))\n",
    "\n",
    "axs.plot(test_series['Dates'], test_series['Means'], label='Mean', linewidth=0.8)\n",
    "axs.set_xlabel('Date')\n",
    "axs.set_ylabel('Temperature ($^{\\circ}$C)')\n",
    "# axs.set_ylim(0.7,2.3)\n",
    "# axs.tick_params(axis='x', labelrotation=10)\n",
    "# axs.legend(edgecolor='k',loc='right', bbox_to_anchor=(1.45, 0.5), ncol=1, fancybox=True, fontsize='x-small')\n",
    "axs.legend(edgecolor='k',loc='upper right', ncol=1, fancybox=True, fontsize='x-small')\n",
    "# axs.set_title('EnOI time-evolution RMSE')\n",
    "\n",
    "# ploting no. of obs on secondary y-axis \n",
    "axs_twin = axs.twinx()\n",
    "axs_twin.tick_params(axis='y', labelcolor='grey')\n",
    "axs_twin.ticklabel_format(axis='y', style='sci', scilimits=(3,3), useOffset=False, useLocale=True, useMathText=True)\n",
    "axs_twin.plot(test_series['Dates'], test_series['Counts'], 'grey', linestyle='dashed', label='L2 obs', alpha=0.6, linewidth=0.8)\n",
    "axs_twin.set_ylabel('# obs', color='grey')\n",
    "# axs_twin.legend(edgecolor='k', loc='center right', bbox_to_anchor=(0.5, -0.4), ncol=3, fancybox=True, fontsize='x-small', rotate=30)\n",
    "\n",
    "# following two lines fix z-order\n",
    "# axs.set_zorder(axs_twin.get_zorder()+1)\n",
    "# axs.patch.set_visible(False)\n",
    "\n",
    "plt.tight_layout()\n",
    "\n",
    "# fig.savefig('../Figures/RMSE_all_NTC.png', dpi=300, bbox_inches='tight')\n"
   ]
  },
  {
   "cell_type": "code",
   "execution_count": 67,
   "metadata": {},
   "outputs": [
    {
     "data": {
      "image/png": "[encoded data removed]",
      "text/plain": [
       "<Figure size 576x216 with 2 Axes>"
      ]
     },
     "metadata": {},
     "output_type": "display_data"
    }
   ],
   "source": [
    "fig, axs = plt.subplots(2, 1, figsize=(8,3), sharex=True)\n",
    "\n",
    "axs[0].plot(avhrr17Timeseries['Date'], avhrr17Timeseries['Mean'], label='Mean', c='k', linewidth=1)\n",
    "axs[0].set_ylabel('Mean ($^{\\circ}$C)')\n",
    "axs[0].grid(axis='y', ls='dashed', alpha=0.3)\n",
    "# axs.set_ylim(0.7,2.3)\n",
    "# axs.tick_params(axis='x', labelrotation=10)\n",
    "# axs.legend(edgecolor='k',loc='right', bbox_to_anchor=(1.45, 0.5), ncol=1, fancybox=True, fontsize='x-small')\n",
    "# axs[0].legend(edgecolor='k',loc='upper right', ncol=1, fancybox=True, fontsize='x-small')\n",
    "# axs.set_title('EnOI time-evolution RMSE')\n",
    "\n",
    "# ploting no. of obs on secondary y-axis \n",
    "axs[1].plot(avhrr17Timeseries['Date'], avhrr17Timeseries['Count'], c='k', label='L2 obs', linewidth=1)\n",
    "# axs[1].tick_params(axis='y', labelcolor='grey')\n",
    "axs[1].ticklabel_format(axis='y', style='sci', scilimits=(3,3), useOffset=False, useLocale=True, useMathText=True)\n",
    "axs[1].grid(axis='y', ls='dashed', alpha=0.3)\n",
    "axs[1].set_ylabel('# obs')\n",
    "axs[1].set_xlabel('Date')\n",
    "# axs_twin.legend(edgecolor='k', loc='center right', bbox_to_anchor=(0.5, -0.4), ncol=3, fancybox=True, fontsize='x-small', rotate=30)\n",
    "\n",
    "# following two lines fix z-order\n",
    "# axs.set_zorder(axs_twin.get_zorder()+1)\n",
    "# axs.patch.set_visible(False)\n",
    "\n",
    "plt.tight_layout(h_pad=0.1)\n",
    "\n",
    "# fig.savefig('../Figures/RMSE_all_NTC.png', dpi=300, bbox_inches='tight')\n"
   ]
  },
  {
   "cell_type": "code",
   "execution_count": 58,
   "metadata": {},
   "outputs": [],
   "source": [
    "new = test_series['Means'].rolling(5)"
   ]
  },
  {
   "cell_type": "markdown",
   "metadata": {},
   "source": [
    "## Aside: Sanity check for days with low means\n",
    "\n",
    "This is the development of code to plot the days where the mean SST (from above, section 1) is questionably low. It aims to subset to the model domain, calculate and print the mean and also plot the values geographically.\n",
    "\n",
    "Data will probably be chosen by date and file location."
   ]
  },
  {
   "cell_type": "code",
   "execution_count": 6,
   "metadata": {},
   "outputs": [
    {
     "name": "stdout",
     "output_type": "stream",
     "text": [
      "Fetching obs from: /home/harry/work/Harry_uCapeTown/ESA_CCI-SST/proc_data-CEDA_Archive/processed_data/L3U/AATSR\n",
      "/home/harry/work/Harry_uCapeTown/ESA_CCI-SST/proc_data-CEDA_Archive/processed_data/L3U/AATSR/ESA_CCI*_AATSR_20110101.nc\n"
     ]
    }
   ],
   "source": [
    "import os\n",
    "import glob\n",
    "import sys\n",
    "import pandas as pd\n",
    "import xarray as xr\n",
    "import numpy as np\n",
    "import matplotlib.pyplot as plt\n",
    "plt.switch_backend('agg')\n",
    "\n",
    "# Hard-coding directory and sensor. Use args eventually.i\n",
    "# assign input arguments\n",
    "date = sys.argv[1] # e.g. 20091001\n",
    "sensor = sys.argv[2] # e.g. AVHRR17_G\n",
    "\n",
    "basedir = os.path.join('/work/Harry_uCapeTown/ESA_CCI-SST/proc_data-CEDA_Archive/processed_data/L3U/',\n",
    "                       sensor)\n",
    "#basedir = os.path.join('/nn2993k/TSST_daily/L2P/', sensor)\n",
    "\n",
    "basedir = os.path.expanduser('~' + basedir)\n",
    "print('Fetching obs from {0} on {1} at {2}'.format(sensor, date, basedir))\n",
    "\n",
    "# Get obs file\n",
    "obsFile = glob.glob(basedir + '/ESA_CCI*_{0}_{1}.nc'.format(sensor, date))\n",
    "print(obsFile)\n",
    "\n",
    "ds = xr.open_dataset(obsFile[0])\n",
    "ds = ds.to_dataframe()\n",
    "ds = ds[(ds['latitude'] <= -10) & (ds['latitude'] >= -50 ) & ((ds['longitude'] <= 70) & (ds['longitude'] >= 0))]\n",
    "temp_mean = round(np.mean(ds['along_track_SST'])-273.15, 3)\n",
    "\n",
    "#-----------------------------------------------------------------------\n",
    "# Plotting\n",
    "print('Plotting...')\n",
    "\n",
    "fig, axs = plt.subplots(1, 1, figsize=(5,3))\n",
    "plt.suptitle('{0}'.format(sensor), y=1.02)\n",
    "\n",
    "# Plotting SST\n",
    "im = axs.scatter(ds['longitude'], ds['latitude'], c=ds['along_track_SST']-273.15, s=0.02, vmin=0, vmax=32)\n",
    "plt.colorbar(im, ax=axs, extend='both', label='$^{\\circ}$C', shrink=0.7)\n",
    "axs.text(0.07, 0.93, 'Mean = {0}'.format(round((temp_mean),3)),\n",
    "                fontweight='roman', horizontalalignment='left',\n",
    "                verticalalignment='center', transform=axs.transAxes)\n",
    "axs.set_ylabel('Lat')\n",
    "axs.set_xlabel('Lon')\n",
    "axs.grid(axis='both', ls='dashed', alpha=0.2)\n",
    "\n",
    "plt.tight_layout()\n",
    "fig.savefig('{0}_SST_sanity_{1}.png'.format(sensor, date), dpi=300, bbox_inches='tight')\n",
    "\n",
    "print('Plot saved -> {0}_SST_sanity_{1}.png'.format(sensor, date))"
   ]
  },
  {
   "cell_type": "code",
   "execution_count": 40,
   "metadata": {},
   "outputs": [
    {
     "name": "stdout",
     "output_type": "stream",
     "text": [
      "Fetching obs from: /media/harry/HarryExt/PhD/paper1/Data/processed_obs_example/avhrr17\n",
      "/media/harry/HarryExt/PhD/paper1/Data/processed_obs_example/avhrr17/ESA_CCI_L2P_AVHRR17_G_20091001.nc\n"
     ]
    }
   ],
   "source": [
    "# plt.switch_backend('TkAgg')\n",
    "date = '20091001'\n",
    "sensor = 'AVHRR17_G'\n",
    "basedir = '/media/harry/HarryExt/PhD/paper1/Data/processed_obs_example/avhrr17'\n",
    "print('Fetching obs from: {0}'.format(basedir))\n",
    "\n",
    "# Get list of obs files\n",
    "obsFile = glob.glob(basedir + '/ESA_CCI*_{0}_{1}.nc'.format(sensor, date))\n",
    "print(obsFile[0])\n",
    "\n",
    "ds = xr.open_dataset(obsFile[0])\n",
    "ds = ds.to_dataframe()\n",
    "ds = ds[(ds['latitude'] <= -10) & (ds['latitude'] >= -50 ) & ((ds['longitude'] <= 70) & (ds['longitude'] >= 0))]\n",
    "temp_mean = round(np.mean(ds['along_track_SST'])-273.15, 3)\n",
    "\n",
    "fig, axs = plt.subplots(1, 1, figsize=(5,3))\n",
    "plt.suptitle('{0}'.format(sensor), y=1.02)\n",
    "\n",
    "# Plotting SST\n",
    "im = axs.scatter(ds['longitude'], ds['latitude'], c=ds['along_track_SST']-273.15, s=0.02, vmin=0, vmax=32)\n",
    "plt.colorbar(im, ax=axs, extend='both', label='$^{\\circ}$C', shrink=0.7)\n",
    "axs.text(0.07, 0.93, 'Mean = {0}'.format(round((temp_mean),3)),\n",
    "                fontweight='roman', horizontalalignment='left',\n",
    "                verticalalignment='center', transform=axs.transAxes)\n",
    "axs.set_ylabel('Lat')\n",
    "axs.set_xlabel('Lon')\n",
    "axs.grid(axis='both', ls='dashed', alpha=0.2)\n",
    "\n",
    "plt.tight_layout(h_pad=0.1)\n",
    "plt.show()\n",
    "\n",
    "fig.savefig('{0}_SST_sanity_{1}.png'.format(sensor, date), dpi=300, bbox_inches='tight')"
   ]
  },
  {
   "cell_type": "code",
   "execution_count": 13,
   "metadata": {},
   "outputs": [
    {
     "data": {
      "text/plain": [
       "<xarray.Dataset>\n",
       "Dimensions:             (num_observations: 4187414)\n",
       "Dimensions without coordinates: num_observations\n",
       "Data variables:\n",
       "    latitude            (num_observations) float32 ...\n",
       "    longitude           (num_observations) float32 ...\n",
       "    along_track_SST     (num_observations) float32 ...\n",
       "    standard_deviation  (num_observations) float32 ...\n",
       "    hour                (num_observations) float32 ...\n",
       "    minute              (num_observations) float32 ...\n",
       "    second              (num_observations) float32 ...\n",
       "Attributes:\n",
       "    title:         Processed along-track ESA CCI L2P SST data from AVHRR17_G ...\n",
       "    source:        ESA CCI SST http://data.ceda.ac.uk/neodc/esacci/sst\n",
       "    references:    https://github.com/sanAkel/Harry_uCapeTown/tree/master/ESA...\n",
       "    date_created:  Year 2020"
      ]
     },
     "execution_count": 13,
     "metadata": {},
     "output_type": "execute_result"
    }
   ],
   "source": [
    "ds"
   ]
  },
  {
   "cell_type": "markdown",
   "metadata": {},
   "source": [
    "# 2. Attempt using raw obs files"
   ]
  },
  {
   "cell_type": "code",
   "execution_count": 5,
   "metadata": {
    "scrolled": true
   },
   "outputs": [
    {
     "name": "stdout",
     "output_type": "stream",
     "text": [
      "2008-12-31\n",
      "2009-01-01\n"
     ]
    }
   ],
   "source": [
    "basedir = '/media/harry/HarryExt/PhD/paper1/Data/AVHRR_ALL_example/'\n",
    "# sensors = ['AVHRR17_G', 'AVHRR18_G', 'AVHRR19_G', 'AVHRRMTA_G']\n",
    "\n",
    "# avhrr17Timeseries = pd.DataFrame(columns=['Date', 'Mean', 'Count'])\n",
    "avhrr17Timeseries = []\n",
    "avhrr18Timeseries = []\n",
    "avhrr19Timeseries = []\n",
    "avhrrmtaTimeseries = []\n",
    "allTimeseries = []\n",
    "\n",
    "# avhrr17Timeseries = np.zeros(2,1,1)\n",
    "# avhrr18Timeseries = np.zeros(2,1,1)\n",
    "# avhrr19Timeseries = np.zeros(2,1,1)\n",
    "# avhrrmtaTimeseries = np.zeros(2,1,1)\n",
    "# allTimeseries = np.zeros(2,1,1)\n",
    "\n",
    "startDate = datetime.date(2008, 12, 31)\n",
    "# endDate = datetime.date(2012, 4, 8)\n",
    "endDate = datetime.date(2009, 1, 1)\n",
    "dayIncrement = datetime.timedelta(days=1)\n",
    "\n",
    "currentDate = startDate\n",
    "\n",
    "while currentDate <= endDate:\n",
    "    print(currentDate)\n",
    "    totalObs = []\n",
    "    dataDir = os.path.join(basedir, 'Y{0}/M{1:02}/D{2:02}/'.format(currentDate.year, currentDate.month, currentDate.day))\n",
    "    \n",
    "    allFiles = glob.glob(dataDir + '/*.nc')\n",
    "    avhrr17Files = glob.glob(dataDir + '/*AVHRR17*.nc')\n",
    "    avhrr18Files = glob.glob(dataDir + '/*AVHRR18*.nc')\n",
    "    avhrr19Files = glob.glob(dataDir + '/*AVHRR19*.nc')\n",
    "    avhrrmtaFiles = glob.glob(dataDir + '/*AVHRRMTA*.nc')\n",
    "    \n",
    "#     if len(avhrr17Files) > 0:\n",
    "#         avhrr17data = xr.open_mfdataset(avhrr17Files)\n",
    "#         avhrr17data = avhrr17data.where((avhrr17data.lat > -50) & (avhrr17data.lat < -10) & (avhrr17data.lon > 0) & (avhrr17data.lon < 60))\n",
    "#         avhrr17data = avhrr17data.where(avhrr17data['quality_level']==5)\n",
    "#         avhrr17Timeseries.append([currentDate, np.mean(avhrr17data['sea_surface_temperature_depth']).values, avhrr17data['sea_surface_temperature_depth'].count().values])\n",
    "#         totalObs.append(np.ravel(avhrr17data['sea_surface_temperature_depth']))\n",
    "        \n",
    "#     if len(avhrr18Files) > 0:\n",
    "#         avhrr18data = xr.open_mfdataset(avhrr18Files)\n",
    "#         avhrr18data = avhrr18data.where((avhrr18data.lat > -50) & (avhrr18data.lat < -10) & (avhrr18data.lon > 0) & (avhrr18data.lon < 60))\n",
    "#         avhrr18data = avhrr18data.where(avhrr18data['quality_level']==5)\n",
    "#         avhrr18Timeseries.append([currentDate, np.mean(avhrr18data['sea_surface_temperature_depth']).values, avhrr18data['sea_surface_temperature_depth'].count().values])\n",
    "#         totalObs.append(np.ravel(avhrr18data['sea_surface_temperature_depth']))\n",
    "        \n",
    "#     if len(avhrr19Files) > 0:\n",
    "#         avhrr19data = xr.open_mfdataset(avhrr19Files)\n",
    "#         avhrr19data = avhrr19data.where((avhrr19data.lat > -50) & (avhrr19data.lat < -10) & (avhrr19data.lon > 0) & (avhrr19data.lon < 60))\n",
    "#         avhrr19data = avhrr19data.where(avhrr19data['quality_level']==5)\n",
    "#         avhrr19Timeseries.append([currentDate, np.mean(avhrr19data['sea_surface_temperature_depth']).values, avhrr19data['sea_surface_temperature_depth'].count().values])\n",
    "#         totalObs.append(np.ravel(avhrr19data['sea_surface_temperature_depth']))\n",
    "        \n",
    "#     if len(avhrrmtaFiles) > 0:\n",
    "#         avhrrmtadata = xr.open_mfdataset(avhrrmtaFiles)\n",
    "#         avhrrmtadata = avhrrmtadata.where((avhrrmtadata.lat > -50) & (avhrrmtadata.lat < -10) & (avhrrmtadata.lon > 0) & (avhrrmtadata.lon < 60))\n",
    "#         avhrrmtadata = avhrrmtadata.where(avhrrmtadata['quality_level']==5)\n",
    "#         avhrrmtaTimeseries.append([currentDate, np.mean(avhrrmtadata['sea_surface_temperature_depth']).values, avhrrmtadata['sea_surface_temperature_depth'].count().values])\n",
    "#         totalObs.append(np.ravel(avhrrmtadata['sea_surface_temperature_depth']))\n",
    "\n",
    "#     allTimeseries.append([currentDate, np.mean(totalObs), count(totalObs)])\n",
    "#     os.chdir(dataDir)\n",
    "#     print(files)\n",
    "#     print('Year = {0}, Month = {1}, Day = {2}'.format(currentDate.year, currentDate.month, currentDate.day))\n",
    "    currentDate += dayIncrement\n",
    "\n",
    "# pd.DataFrame(avhrr17Timeseries, columns=['Date', 'Mean', 'Count'])\n",
    "# pd.DataFrame(avhrr18Timeseries, columns=['Date', 'Mean', 'Count'])\n",
    "# pd.DataFrame(avhrr19Timeseries, columns=['Date', 'Mean', 'Count'])\n",
    "# pd.DataFrame(avhrrmtaTimeseries, columns=['Date', 'Mean', 'Count'])\n",
    "# pd.DataFrame(allTimeseries, columns=['Date', 'Mean', 'Count'])"
   ]
  },
  {
   "cell_type": "code",
   "execution_count": 7,
   "metadata": {
    "scrolled": true
   },
   "outputs": [
    {
     "name": "stdout",
     "output_type": "stream",
     "text": [
      "Now processing for date: 2008-12-31\n",
      "Processing AVHRR17 observations...\n",
      "Processing AVHRR18 observations...\n",
      "Processing AVHRRMTA observations...\n",
      "Now processing for date: 2009-01-01\n",
      "Processing AVHRR17 observations...\n"
     ]
    },
    {
     "ename": "KeyboardInterrupt",
     "evalue": "",
     "output_type": "error",
     "traceback": [
      "\u001b[0;31m---------------------------------------------------------------------------\u001b[0m",
      "\u001b[0;31mKeyboardInterrupt\u001b[0m                         Traceback (most recent call last)",
      "\u001b[0;32m<ipython-input-7-c037f2bad771>\u001b[0m in \u001b[0;36m<module>\u001b[0;34m\u001b[0m\n\u001b[1;32m     38\u001b[0m         \u001b[0mavhrr17data\u001b[0m \u001b[0;34m=\u001b[0m \u001b[0mavhrr17data\u001b[0m\u001b[0;34m.\u001b[0m\u001b[0mwhere\u001b[0m\u001b[0;34m(\u001b[0m\u001b[0mavhrr17data\u001b[0m\u001b[0;34m[\u001b[0m\u001b[0;34m'quality_level'\u001b[0m\u001b[0;34m]\u001b[0m\u001b[0;34m==\u001b[0m\u001b[0;36m5\u001b[0m\u001b[0;34m,\u001b[0m \u001b[0mdrop\u001b[0m\u001b[0;34m=\u001b[0m\u001b[0;32mTrue\u001b[0m\u001b[0;34m)\u001b[0m\u001b[0;34m\u001b[0m\u001b[0;34m\u001b[0m\u001b[0m\n\u001b[1;32m     39\u001b[0m         \u001b[0mavhrr17data\u001b[0m \u001b[0;34m=\u001b[0m \u001b[0mavhrr17data\u001b[0m\u001b[0;34m[\u001b[0m\u001b[0;34m'sea_surface_temperature_depth'\u001b[0m\u001b[0;34m]\u001b[0m\u001b[0;34m\u001b[0m\u001b[0;34m\u001b[0m\u001b[0m\n\u001b[0;32m---> 40\u001b[0;31m         \u001b[0mavhrr17data\u001b[0m \u001b[0;34m=\u001b[0m \u001b[0mavhrr17data\u001b[0m\u001b[0;34m.\u001b[0m\u001b[0mwhere\u001b[0m\u001b[0;34m(\u001b[0m\u001b[0;34m(\u001b[0m\u001b[0mavhrr17data\u001b[0m\u001b[0;34m.\u001b[0m\u001b[0mlat\u001b[0m \u001b[0;34m>\u001b[0m \u001b[0;34m-\u001b[0m\u001b[0;36m50\u001b[0m\u001b[0;34m)\u001b[0m \u001b[0;34m&\u001b[0m \u001b[0;34m(\u001b[0m\u001b[0mavhrr17data\u001b[0m\u001b[0;34m.\u001b[0m\u001b[0mlat\u001b[0m \u001b[0;34m<\u001b[0m \u001b[0;34m-\u001b[0m\u001b[0;36m10\u001b[0m\u001b[0;34m)\u001b[0m \u001b[0;34m&\u001b[0m \u001b[0;34m(\u001b[0m\u001b[0mavhrr17data\u001b[0m\u001b[0;34m.\u001b[0m\u001b[0mlon\u001b[0m \u001b[0;34m>\u001b[0m \u001b[0;36m0\u001b[0m\u001b[0;34m)\u001b[0m \u001b[0;34m&\u001b[0m \u001b[0;34m(\u001b[0m\u001b[0mavhrr17data\u001b[0m\u001b[0;34m.\u001b[0m\u001b[0mlon\u001b[0m \u001b[0;34m<\u001b[0m \u001b[0;36m60\u001b[0m\u001b[0;34m)\u001b[0m\u001b[0;34m,\u001b[0m \u001b[0mdrop\u001b[0m\u001b[0;34m=\u001b[0m\u001b[0;32mTrue\u001b[0m\u001b[0;34m)\u001b[0m\u001b[0;34m\u001b[0m\u001b[0;34m\u001b[0m\u001b[0m\n\u001b[0m\u001b[1;32m     41\u001b[0m         \u001b[0mavhrr17Timeseries\u001b[0m\u001b[0;34m.\u001b[0m\u001b[0mappend\u001b[0m\u001b[0;34m(\u001b[0m\u001b[0;34m[\u001b[0m\u001b[0mcurrentDate\u001b[0m\u001b[0;34m,\u001b[0m \u001b[0mnp\u001b[0m\u001b[0;34m.\u001b[0m\u001b[0mnanmean\u001b[0m\u001b[0;34m(\u001b[0m\u001b[0mavhrr17data\u001b[0m\u001b[0;34m)\u001b[0m\u001b[0;34m,\u001b[0m \u001b[0mavhrr17data\u001b[0m\u001b[0;34m.\u001b[0m\u001b[0mcount\u001b[0m\u001b[0;34m(\u001b[0m\u001b[0;34m)\u001b[0m\u001b[0;34m.\u001b[0m\u001b[0mvalues\u001b[0m\u001b[0;34m]\u001b[0m\u001b[0;34m)\u001b[0m\u001b[0;34m\u001b[0m\u001b[0;34m\u001b[0m\u001b[0m\n\u001b[1;32m     42\u001b[0m         \u001b[0mtotalObs\u001b[0m\u001b[0;34m.\u001b[0m\u001b[0mextend\u001b[0m\u001b[0;34m(\u001b[0m\u001b[0mnp\u001b[0m\u001b[0;34m.\u001b[0m\u001b[0mravel\u001b[0m\u001b[0;34m(\u001b[0m\u001b[0mavhrr17data\u001b[0m\u001b[0;34m)\u001b[0m\u001b[0;34m)\u001b[0m\u001b[0;34m\u001b[0m\u001b[0;34m\u001b[0m\u001b[0m\n",
      "\u001b[0;32m~/miniconda3/lib/python3.7/site-packages/xarray/core/dataarray.py\u001b[0m in \u001b[0;36mfunc\u001b[0;34m(self, other)\u001b[0m\n\u001b[1;32m   2009\u001b[0m                         \u001b[0;32mif\u001b[0m \u001b[0;32mnot\u001b[0m \u001b[0mreflexive\u001b[0m\u001b[0;34m\u001b[0m\u001b[0;34m\u001b[0m\u001b[0m\n\u001b[1;32m   2010\u001b[0m                         else f(other_variable, self.variable))\n\u001b[0;32m-> 2011\u001b[0;31m             \u001b[0mcoords\u001b[0m \u001b[0;34m=\u001b[0m \u001b[0mself\u001b[0m\u001b[0;34m.\u001b[0m\u001b[0mcoords\u001b[0m\u001b[0;34m.\u001b[0m\u001b[0m_merge_raw\u001b[0m\u001b[0;34m(\u001b[0m\u001b[0mother_coords\u001b[0m\u001b[0;34m)\u001b[0m\u001b[0;34m\u001b[0m\u001b[0;34m\u001b[0m\u001b[0m\n\u001b[0m\u001b[1;32m   2012\u001b[0m             \u001b[0mname\u001b[0m \u001b[0;34m=\u001b[0m \u001b[0mself\u001b[0m\u001b[0;34m.\u001b[0m\u001b[0m_result_name\u001b[0m\u001b[0;34m(\u001b[0m\u001b[0mother\u001b[0m\u001b[0;34m)\u001b[0m\u001b[0;34m\u001b[0m\u001b[0;34m\u001b[0m\u001b[0m\n\u001b[1;32m   2013\u001b[0m \u001b[0;34m\u001b[0m\u001b[0m\n",
      "\u001b[0;32m~/miniconda3/lib/python3.7/site-packages/xarray/core/coordinates.py\u001b[0m in \u001b[0;36m_merge_raw\u001b[0;34m(self, other)\u001b[0m\n\u001b[1;32m     98\u001b[0m             \u001b[0;31m# don't align because we already called xarray.align\u001b[0m\u001b[0;34m\u001b[0m\u001b[0;34m\u001b[0m\u001b[0;34m\u001b[0m\u001b[0m\n\u001b[1;32m     99\u001b[0m             variables = expand_and_merge_variables(\n\u001b[0;32m--> 100\u001b[0;31m                 [self.variables, other.variables])\n\u001b[0m\u001b[1;32m    101\u001b[0m         \u001b[0;32mreturn\u001b[0m \u001b[0mvariables\u001b[0m\u001b[0;34m\u001b[0m\u001b[0;34m\u001b[0m\u001b[0m\n\u001b[1;32m    102\u001b[0m \u001b[0;34m\u001b[0m\u001b[0m\n",
      "\u001b[0;32m~/miniconda3/lib/python3.7/site-packages/xarray/core/merge.py\u001b[0m in \u001b[0;36mexpand_and_merge_variables\u001b[0;34m(objs, priority_arg)\u001b[0m\n\u001b[1;32m    345\u001b[0m     \u001b[0mexpanded\u001b[0m \u001b[0;34m=\u001b[0m \u001b[0mexpand_variable_dicts\u001b[0m\u001b[0;34m(\u001b[0m\u001b[0mobjs\u001b[0m\u001b[0;34m)\u001b[0m\u001b[0;34m\u001b[0m\u001b[0;34m\u001b[0m\u001b[0m\n\u001b[1;32m    346\u001b[0m     \u001b[0mpriority_vars\u001b[0m \u001b[0;34m=\u001b[0m \u001b[0m_get_priority_vars\u001b[0m\u001b[0;34m(\u001b[0m\u001b[0mobjs\u001b[0m\u001b[0;34m,\u001b[0m \u001b[0mpriority_arg\u001b[0m\u001b[0;34m)\u001b[0m\u001b[0;34m\u001b[0m\u001b[0;34m\u001b[0m\u001b[0m\n\u001b[0;32m--> 347\u001b[0;31m     \u001b[0mvariables\u001b[0m \u001b[0;34m=\u001b[0m \u001b[0mmerge_variables\u001b[0m\u001b[0;34m(\u001b[0m\u001b[0mexpanded\u001b[0m\u001b[0;34m,\u001b[0m \u001b[0mpriority_vars\u001b[0m\u001b[0;34m)\u001b[0m\u001b[0;34m\u001b[0m\u001b[0;34m\u001b[0m\u001b[0m\n\u001b[0m\u001b[1;32m    348\u001b[0m     \u001b[0;32mreturn\u001b[0m \u001b[0mvariables\u001b[0m\u001b[0;34m\u001b[0m\u001b[0;34m\u001b[0m\u001b[0m\n\u001b[1;32m    349\u001b[0m \u001b[0;34m\u001b[0m\u001b[0m\n",
      "\u001b[0;32m~/miniconda3/lib/python3.7/site-packages/xarray/core/merge.py\u001b[0m in \u001b[0;36mmerge_variables\u001b[0;34m(list_of_variables_dicts, priority_vars, compat)\u001b[0m\n\u001b[1;32m    168\u001b[0m             \u001b[0;32melse\u001b[0m\u001b[0;34m:\u001b[0m\u001b[0;34m\u001b[0m\u001b[0;34m\u001b[0m\u001b[0m\n\u001b[1;32m    169\u001b[0m                 \u001b[0;32mtry\u001b[0m\u001b[0;34m:\u001b[0m\u001b[0;34m\u001b[0m\u001b[0;34m\u001b[0m\u001b[0m\n\u001b[0;32m--> 170\u001b[0;31m                     \u001b[0mmerged\u001b[0m\u001b[0;34m[\u001b[0m\u001b[0mname\u001b[0m\u001b[0;34m]\u001b[0m \u001b[0;34m=\u001b[0m \u001b[0munique_variable\u001b[0m\u001b[0;34m(\u001b[0m\u001b[0mname\u001b[0m\u001b[0;34m,\u001b[0m \u001b[0mvar_list\u001b[0m\u001b[0;34m,\u001b[0m \u001b[0mcompat\u001b[0m\u001b[0;34m)\u001b[0m\u001b[0;34m\u001b[0m\u001b[0;34m\u001b[0m\u001b[0m\n\u001b[0m\u001b[1;32m    171\u001b[0m                 \u001b[0;32mexcept\u001b[0m \u001b[0mMergeError\u001b[0m\u001b[0;34m:\u001b[0m\u001b[0;34m\u001b[0m\u001b[0;34m\u001b[0m\u001b[0m\n\u001b[1;32m    172\u001b[0m                     \u001b[0;32mif\u001b[0m \u001b[0mcompat\u001b[0m \u001b[0;34m!=\u001b[0m \u001b[0;34m'minimal'\u001b[0m\u001b[0;34m:\u001b[0m\u001b[0;34m\u001b[0m\u001b[0;34m\u001b[0m\u001b[0m\n",
      "\u001b[0;32m~/miniconda3/lib/python3.7/site-packages/xarray/core/merge.py\u001b[0m in \u001b[0;36munique_variable\u001b[0;34m(name, variables, compat)\u001b[0m\n\u001b[1;32m     84\u001b[0m \u001b[0;34m\u001b[0m\u001b[0m\n\u001b[1;32m     85\u001b[0m         \u001b[0;32mfor\u001b[0m \u001b[0mvar\u001b[0m \u001b[0;32min\u001b[0m \u001b[0mvariables\u001b[0m\u001b[0;34m[\u001b[0m\u001b[0;36m1\u001b[0m\u001b[0;34m:\u001b[0m\u001b[0;34m]\u001b[0m\u001b[0;34m:\u001b[0m\u001b[0;34m\u001b[0m\u001b[0;34m\u001b[0m\u001b[0m\n\u001b[0;32m---> 86\u001b[0;31m             \u001b[0;32mif\u001b[0m \u001b[0;32mnot\u001b[0m \u001b[0mgetattr\u001b[0m\u001b[0;34m(\u001b[0m\u001b[0mout\u001b[0m\u001b[0;34m,\u001b[0m \u001b[0mcompat\u001b[0m\u001b[0;34m)\u001b[0m\u001b[0;34m(\u001b[0m\u001b[0mvar\u001b[0m\u001b[0;34m)\u001b[0m\u001b[0;34m:\u001b[0m\u001b[0;34m\u001b[0m\u001b[0;34m\u001b[0m\u001b[0m\n\u001b[0m\u001b[1;32m     87\u001b[0m                 raise MergeError('conflicting values for variable %r on '\n\u001b[1;32m     88\u001b[0m                                  \u001b[0;34m'objects to be combined:\\n'\u001b[0m\u001b[0;34m\u001b[0m\u001b[0;34m\u001b[0m\u001b[0m\n",
      "\u001b[0;32m~/miniconda3/lib/python3.7/site-packages/xarray/core/variable.py\u001b[0m in \u001b[0;36mbroadcast_equals\u001b[0;34m(self, other, equiv)\u001b[0m\n\u001b[1;32m   1483\u001b[0m         \u001b[0;32mexcept\u001b[0m \u001b[0;34m(\u001b[0m\u001b[0mValueError\u001b[0m\u001b[0;34m,\u001b[0m \u001b[0mAttributeError\u001b[0m\u001b[0;34m)\u001b[0m\u001b[0;34m:\u001b[0m\u001b[0;34m\u001b[0m\u001b[0;34m\u001b[0m\u001b[0m\n\u001b[1;32m   1484\u001b[0m             \u001b[0;32mreturn\u001b[0m \u001b[0;32mFalse\u001b[0m\u001b[0;34m\u001b[0m\u001b[0;34m\u001b[0m\u001b[0m\n\u001b[0;32m-> 1485\u001b[0;31m         \u001b[0;32mreturn\u001b[0m \u001b[0mself\u001b[0m\u001b[0;34m.\u001b[0m\u001b[0mequals\u001b[0m\u001b[0;34m(\u001b[0m\u001b[0mother\u001b[0m\u001b[0;34m,\u001b[0m \u001b[0mequiv\u001b[0m\u001b[0;34m=\u001b[0m\u001b[0mequiv\u001b[0m\u001b[0;34m)\u001b[0m\u001b[0;34m\u001b[0m\u001b[0;34m\u001b[0m\u001b[0m\n\u001b[0m\u001b[1;32m   1486\u001b[0m \u001b[0;34m\u001b[0m\u001b[0m\n\u001b[1;32m   1487\u001b[0m     \u001b[0;32mdef\u001b[0m \u001b[0midentical\u001b[0m\u001b[0;34m(\u001b[0m\u001b[0mself\u001b[0m\u001b[0;34m,\u001b[0m \u001b[0mother\u001b[0m\u001b[0;34m)\u001b[0m\u001b[0;34m:\u001b[0m\u001b[0;34m\u001b[0m\u001b[0;34m\u001b[0m\u001b[0m\n",
      "\u001b[0;32m~/miniconda3/lib/python3.7/site-packages/xarray/core/variable.py\u001b[0m in \u001b[0;36mequals\u001b[0;34m(self, other, equiv)\u001b[0m\n\u001b[1;32m   1468\u001b[0m             return (self.dims == other.dims and\n\u001b[1;32m   1469\u001b[0m                     (self._data is other._data or\n\u001b[0;32m-> 1470\u001b[0;31m                      equiv(self.data, other.data)))\n\u001b[0m\u001b[1;32m   1471\u001b[0m         \u001b[0;32mexcept\u001b[0m \u001b[0;34m(\u001b[0m\u001b[0mTypeError\u001b[0m\u001b[0;34m,\u001b[0m \u001b[0mAttributeError\u001b[0m\u001b[0;34m)\u001b[0m\u001b[0;34m:\u001b[0m\u001b[0;34m\u001b[0m\u001b[0;34m\u001b[0m\u001b[0m\n\u001b[1;32m   1472\u001b[0m             \u001b[0;32mreturn\u001b[0m \u001b[0;32mFalse\u001b[0m\u001b[0;34m\u001b[0m\u001b[0;34m\u001b[0m\u001b[0m\n",
      "\u001b[0;32m~/miniconda3/lib/python3.7/site-packages/xarray/core/duck_array_ops.py\u001b[0m in \u001b[0;36marray_equiv\u001b[0;34m(arr1, arr2)\u001b[0m\n\u001b[1;32m    162\u001b[0m         \u001b[0mflag_array\u001b[0m \u001b[0;34m|=\u001b[0m \u001b[0;34m(\u001b[0m\u001b[0misnull\u001b[0m\u001b[0;34m(\u001b[0m\u001b[0marr1\u001b[0m\u001b[0;34m)\u001b[0m \u001b[0;34m&\u001b[0m \u001b[0misnull\u001b[0m\u001b[0;34m(\u001b[0m\u001b[0marr2\u001b[0m\u001b[0;34m)\u001b[0m\u001b[0;34m)\u001b[0m\u001b[0;34m\u001b[0m\u001b[0;34m\u001b[0m\u001b[0m\n\u001b[1;32m    163\u001b[0m \u001b[0;34m\u001b[0m\u001b[0m\n\u001b[0;32m--> 164\u001b[0;31m         \u001b[0;32mreturn\u001b[0m \u001b[0mbool\u001b[0m\u001b[0;34m(\u001b[0m\u001b[0mflag_array\u001b[0m\u001b[0;34m.\u001b[0m\u001b[0mall\u001b[0m\u001b[0;34m(\u001b[0m\u001b[0;34m)\u001b[0m\u001b[0;34m)\u001b[0m\u001b[0;34m\u001b[0m\u001b[0;34m\u001b[0m\u001b[0m\n\u001b[0m\u001b[1;32m    165\u001b[0m \u001b[0;34m\u001b[0m\u001b[0m\n\u001b[1;32m    166\u001b[0m \u001b[0;34m\u001b[0m\u001b[0m\n",
      "\u001b[0;32m~/miniconda3/lib/python3.7/site-packages/dask/array/core.py\u001b[0m in \u001b[0;36m__bool__\u001b[0;34m(self)\u001b[0m\n\u001b[1;32m   1438\u001b[0m             )\n\u001b[1;32m   1439\u001b[0m         \u001b[0;32melse\u001b[0m\u001b[0;34m:\u001b[0m\u001b[0;34m\u001b[0m\u001b[0;34m\u001b[0m\u001b[0m\n\u001b[0;32m-> 1440\u001b[0;31m             \u001b[0;32mreturn\u001b[0m \u001b[0mbool\u001b[0m\u001b[0;34m(\u001b[0m\u001b[0mself\u001b[0m\u001b[0;34m.\u001b[0m\u001b[0mcompute\u001b[0m\u001b[0;34m(\u001b[0m\u001b[0;34m)\u001b[0m\u001b[0;34m)\u001b[0m\u001b[0;34m\u001b[0m\u001b[0;34m\u001b[0m\u001b[0m\n\u001b[0m\u001b[1;32m   1441\u001b[0m \u001b[0;34m\u001b[0m\u001b[0m\n\u001b[1;32m   1442\u001b[0m     \u001b[0m__nonzero__\u001b[0m \u001b[0;34m=\u001b[0m \u001b[0m__bool__\u001b[0m  \u001b[0;31m# python 2\u001b[0m\u001b[0;34m\u001b[0m\u001b[0;34m\u001b[0m\u001b[0m\n",
      "\u001b[0;32m~/miniconda3/lib/python3.7/site-packages/dask/base.py\u001b[0m in \u001b[0;36mcompute\u001b[0;34m(self, **kwargs)\u001b[0m\n\u001b[1;32m    163\u001b[0m         \u001b[0mdask\u001b[0m\u001b[0;34m.\u001b[0m\u001b[0mbase\u001b[0m\u001b[0;34m.\u001b[0m\u001b[0mcompute\u001b[0m\u001b[0;34m\u001b[0m\u001b[0;34m\u001b[0m\u001b[0m\n\u001b[1;32m    164\u001b[0m         \"\"\"\n\u001b[0;32m--> 165\u001b[0;31m         \u001b[0;34m(\u001b[0m\u001b[0mresult\u001b[0m\u001b[0;34m,\u001b[0m\u001b[0;34m)\u001b[0m \u001b[0;34m=\u001b[0m \u001b[0mcompute\u001b[0m\u001b[0;34m(\u001b[0m\u001b[0mself\u001b[0m\u001b[0;34m,\u001b[0m \u001b[0mtraverse\u001b[0m\u001b[0;34m=\u001b[0m\u001b[0;32mFalse\u001b[0m\u001b[0;34m,\u001b[0m \u001b[0;34m**\u001b[0m\u001b[0mkwargs\u001b[0m\u001b[0;34m)\u001b[0m\u001b[0;34m\u001b[0m\u001b[0;34m\u001b[0m\u001b[0m\n\u001b[0m\u001b[1;32m    166\u001b[0m         \u001b[0;32mreturn\u001b[0m \u001b[0mresult\u001b[0m\u001b[0;34m\u001b[0m\u001b[0;34m\u001b[0m\u001b[0m\n\u001b[1;32m    167\u001b[0m \u001b[0;34m\u001b[0m\u001b[0m\n",
      "\u001b[0;32m~/miniconda3/lib/python3.7/site-packages/dask/base.py\u001b[0m in \u001b[0;36mcompute\u001b[0;34m(*args, **kwargs)\u001b[0m\n\u001b[1;32m    434\u001b[0m     \u001b[0mkeys\u001b[0m \u001b[0;34m=\u001b[0m \u001b[0;34m[\u001b[0m\u001b[0mx\u001b[0m\u001b[0;34m.\u001b[0m\u001b[0m__dask_keys__\u001b[0m\u001b[0;34m(\u001b[0m\u001b[0;34m)\u001b[0m \u001b[0;32mfor\u001b[0m \u001b[0mx\u001b[0m \u001b[0;32min\u001b[0m \u001b[0mcollections\u001b[0m\u001b[0;34m]\u001b[0m\u001b[0;34m\u001b[0m\u001b[0;34m\u001b[0m\u001b[0m\n\u001b[1;32m    435\u001b[0m     \u001b[0mpostcomputes\u001b[0m \u001b[0;34m=\u001b[0m \u001b[0;34m[\u001b[0m\u001b[0mx\u001b[0m\u001b[0;34m.\u001b[0m\u001b[0m__dask_postcompute__\u001b[0m\u001b[0;34m(\u001b[0m\u001b[0;34m)\u001b[0m \u001b[0;32mfor\u001b[0m \u001b[0mx\u001b[0m \u001b[0;32min\u001b[0m \u001b[0mcollections\u001b[0m\u001b[0;34m]\u001b[0m\u001b[0;34m\u001b[0m\u001b[0;34m\u001b[0m\u001b[0m\n\u001b[0;32m--> 436\u001b[0;31m     \u001b[0mresults\u001b[0m \u001b[0;34m=\u001b[0m \u001b[0mschedule\u001b[0m\u001b[0;34m(\u001b[0m\u001b[0mdsk\u001b[0m\u001b[0;34m,\u001b[0m \u001b[0mkeys\u001b[0m\u001b[0;34m,\u001b[0m \u001b[0;34m**\u001b[0m\u001b[0mkwargs\u001b[0m\u001b[0;34m)\u001b[0m\u001b[0;34m\u001b[0m\u001b[0;34m\u001b[0m\u001b[0m\n\u001b[0m\u001b[1;32m    437\u001b[0m     \u001b[0;32mreturn\u001b[0m \u001b[0mrepack\u001b[0m\u001b[0;34m(\u001b[0m\u001b[0;34m[\u001b[0m\u001b[0mf\u001b[0m\u001b[0;34m(\u001b[0m\u001b[0mr\u001b[0m\u001b[0;34m,\u001b[0m \u001b[0;34m*\u001b[0m\u001b[0ma\u001b[0m\u001b[0;34m)\u001b[0m \u001b[0;32mfor\u001b[0m \u001b[0mr\u001b[0m\u001b[0;34m,\u001b[0m \u001b[0;34m(\u001b[0m\u001b[0mf\u001b[0m\u001b[0;34m,\u001b[0m \u001b[0ma\u001b[0m\u001b[0;34m)\u001b[0m \u001b[0;32min\u001b[0m \u001b[0mzip\u001b[0m\u001b[0;34m(\u001b[0m\u001b[0mresults\u001b[0m\u001b[0;34m,\u001b[0m \u001b[0mpostcomputes\u001b[0m\u001b[0;34m)\u001b[0m\u001b[0;34m]\u001b[0m\u001b[0;34m)\u001b[0m\u001b[0;34m\u001b[0m\u001b[0;34m\u001b[0m\u001b[0m\n\u001b[1;32m    438\u001b[0m \u001b[0;34m\u001b[0m\u001b[0m\n",
      "\u001b[0;32m~/miniconda3/lib/python3.7/site-packages/dask/threaded.py\u001b[0m in \u001b[0;36mget\u001b[0;34m(dsk, result, cache, num_workers, pool, **kwargs)\u001b[0m\n\u001b[1;32m     78\u001b[0m         \u001b[0mget_id\u001b[0m\u001b[0;34m=\u001b[0m\u001b[0m_thread_get_id\u001b[0m\u001b[0;34m,\u001b[0m\u001b[0;34m\u001b[0m\u001b[0;34m\u001b[0m\u001b[0m\n\u001b[1;32m     79\u001b[0m         \u001b[0mpack_exception\u001b[0m\u001b[0;34m=\u001b[0m\u001b[0mpack_exception\u001b[0m\u001b[0;34m,\u001b[0m\u001b[0;34m\u001b[0m\u001b[0;34m\u001b[0m\u001b[0m\n\u001b[0;32m---> 80\u001b[0;31m         \u001b[0;34m**\u001b[0m\u001b[0mkwargs\u001b[0m\u001b[0;34m\u001b[0m\u001b[0;34m\u001b[0m\u001b[0m\n\u001b[0m\u001b[1;32m     81\u001b[0m     )\n\u001b[1;32m     82\u001b[0m \u001b[0;34m\u001b[0m\u001b[0m\n",
      "\u001b[0;32m~/miniconda3/lib/python3.7/site-packages/dask/local.py\u001b[0m in \u001b[0;36mget_async\u001b[0;34m(apply_async, num_workers, dsk, result, cache, get_id, rerun_exceptions_locally, pack_exception, raise_exception, callbacks, dumps, loads, **kwargs)\u001b[0m\n\u001b[1;32m    473\u001b[0m             \u001b[0;31m# Main loop, wait on tasks to finish, insert new ones\u001b[0m\u001b[0;34m\u001b[0m\u001b[0;34m\u001b[0m\u001b[0;34m\u001b[0m\u001b[0m\n\u001b[1;32m    474\u001b[0m             \u001b[0;32mwhile\u001b[0m \u001b[0mstate\u001b[0m\u001b[0;34m[\u001b[0m\u001b[0;34m\"waiting\"\u001b[0m\u001b[0;34m]\u001b[0m \u001b[0;32mor\u001b[0m \u001b[0mstate\u001b[0m\u001b[0;34m[\u001b[0m\u001b[0;34m\"ready\"\u001b[0m\u001b[0;34m]\u001b[0m \u001b[0;32mor\u001b[0m \u001b[0mstate\u001b[0m\u001b[0;34m[\u001b[0m\u001b[0;34m\"running\"\u001b[0m\u001b[0;34m]\u001b[0m\u001b[0;34m:\u001b[0m\u001b[0;34m\u001b[0m\u001b[0;34m\u001b[0m\u001b[0m\n\u001b[0;32m--> 475\u001b[0;31m                 \u001b[0mkey\u001b[0m\u001b[0;34m,\u001b[0m \u001b[0mres_info\u001b[0m\u001b[0;34m,\u001b[0m \u001b[0mfailed\u001b[0m \u001b[0;34m=\u001b[0m \u001b[0mqueue_get\u001b[0m\u001b[0;34m(\u001b[0m\u001b[0mqueue\u001b[0m\u001b[0;34m)\u001b[0m\u001b[0;34m\u001b[0m\u001b[0;34m\u001b[0m\u001b[0m\n\u001b[0m\u001b[1;32m    476\u001b[0m                 \u001b[0;32mif\u001b[0m \u001b[0mfailed\u001b[0m\u001b[0;34m:\u001b[0m\u001b[0;34m\u001b[0m\u001b[0;34m\u001b[0m\u001b[0m\n\u001b[1;32m    477\u001b[0m                     \u001b[0mexc\u001b[0m\u001b[0;34m,\u001b[0m \u001b[0mtb\u001b[0m \u001b[0;34m=\u001b[0m \u001b[0mloads\u001b[0m\u001b[0;34m(\u001b[0m\u001b[0mres_info\u001b[0m\u001b[0;34m)\u001b[0m\u001b[0;34m\u001b[0m\u001b[0;34m\u001b[0m\u001b[0m\n",
      "\u001b[0;32m~/miniconda3/lib/python3.7/site-packages/dask/local.py\u001b[0m in \u001b[0;36mqueue_get\u001b[0;34m(q)\u001b[0m\n\u001b[1;32m    131\u001b[0m \u001b[0;34m\u001b[0m\u001b[0m\n\u001b[1;32m    132\u001b[0m     \u001b[0;32mdef\u001b[0m \u001b[0mqueue_get\u001b[0m\u001b[0;34m(\u001b[0m\u001b[0mq\u001b[0m\u001b[0;34m)\u001b[0m\u001b[0;34m:\u001b[0m\u001b[0;34m\u001b[0m\u001b[0;34m\u001b[0m\u001b[0m\n\u001b[0;32m--> 133\u001b[0;31m         \u001b[0;32mreturn\u001b[0m \u001b[0mq\u001b[0m\u001b[0;34m.\u001b[0m\u001b[0mget\u001b[0m\u001b[0;34m(\u001b[0m\u001b[0;34m)\u001b[0m\u001b[0;34m\u001b[0m\u001b[0;34m\u001b[0m\u001b[0m\n\u001b[0m\u001b[1;32m    134\u001b[0m \u001b[0;34m\u001b[0m\u001b[0m\n\u001b[1;32m    135\u001b[0m \u001b[0;34m\u001b[0m\u001b[0m\n",
      "\u001b[0;32m~/miniconda3/lib/python3.7/queue.py\u001b[0m in \u001b[0;36mget\u001b[0;34m(self, block, timeout)\u001b[0m\n\u001b[1;32m    168\u001b[0m             \u001b[0;32melif\u001b[0m \u001b[0mtimeout\u001b[0m \u001b[0;32mis\u001b[0m \u001b[0;32mNone\u001b[0m\u001b[0;34m:\u001b[0m\u001b[0;34m\u001b[0m\u001b[0;34m\u001b[0m\u001b[0m\n\u001b[1;32m    169\u001b[0m                 \u001b[0;32mwhile\u001b[0m \u001b[0;32mnot\u001b[0m \u001b[0mself\u001b[0m\u001b[0;34m.\u001b[0m\u001b[0m_qsize\u001b[0m\u001b[0;34m(\u001b[0m\u001b[0;34m)\u001b[0m\u001b[0;34m:\u001b[0m\u001b[0;34m\u001b[0m\u001b[0;34m\u001b[0m\u001b[0m\n\u001b[0;32m--> 170\u001b[0;31m                     \u001b[0mself\u001b[0m\u001b[0;34m.\u001b[0m\u001b[0mnot_empty\u001b[0m\u001b[0;34m.\u001b[0m\u001b[0mwait\u001b[0m\u001b[0;34m(\u001b[0m\u001b[0;34m)\u001b[0m\u001b[0;34m\u001b[0m\u001b[0;34m\u001b[0m\u001b[0m\n\u001b[0m\u001b[1;32m    171\u001b[0m             \u001b[0;32melif\u001b[0m \u001b[0mtimeout\u001b[0m \u001b[0;34m<\u001b[0m \u001b[0;36m0\u001b[0m\u001b[0;34m:\u001b[0m\u001b[0;34m\u001b[0m\u001b[0;34m\u001b[0m\u001b[0m\n\u001b[1;32m    172\u001b[0m                 \u001b[0;32mraise\u001b[0m \u001b[0mValueError\u001b[0m\u001b[0;34m(\u001b[0m\u001b[0;34m\"'timeout' must be a non-negative number\"\u001b[0m\u001b[0;34m)\u001b[0m\u001b[0;34m\u001b[0m\u001b[0;34m\u001b[0m\u001b[0m\n",
      "\u001b[0;32m~/miniconda3/lib/python3.7/threading.py\u001b[0m in \u001b[0;36mwait\u001b[0;34m(self, timeout)\u001b[0m\n\u001b[1;32m    294\u001b[0m         \u001b[0;32mtry\u001b[0m\u001b[0;34m:\u001b[0m    \u001b[0;31m# restore state no matter what (e.g., KeyboardInterrupt)\u001b[0m\u001b[0;34m\u001b[0m\u001b[0;34m\u001b[0m\u001b[0m\n\u001b[1;32m    295\u001b[0m             \u001b[0;32mif\u001b[0m \u001b[0mtimeout\u001b[0m \u001b[0;32mis\u001b[0m \u001b[0;32mNone\u001b[0m\u001b[0;34m:\u001b[0m\u001b[0;34m\u001b[0m\u001b[0;34m\u001b[0m\u001b[0m\n\u001b[0;32m--> 296\u001b[0;31m                 \u001b[0mwaiter\u001b[0m\u001b[0;34m.\u001b[0m\u001b[0macquire\u001b[0m\u001b[0;34m(\u001b[0m\u001b[0;34m)\u001b[0m\u001b[0;34m\u001b[0m\u001b[0;34m\u001b[0m\u001b[0m\n\u001b[0m\u001b[1;32m    297\u001b[0m                 \u001b[0mgotit\u001b[0m \u001b[0;34m=\u001b[0m \u001b[0;32mTrue\u001b[0m\u001b[0;34m\u001b[0m\u001b[0;34m\u001b[0m\u001b[0m\n\u001b[1;32m    298\u001b[0m             \u001b[0;32melse\u001b[0m\u001b[0;34m:\u001b[0m\u001b[0;34m\u001b[0m\u001b[0;34m\u001b[0m\u001b[0m\n",
      "\u001b[0;31mKeyboardInterrupt\u001b[0m: "
     ]
    }
   ],
   "source": [
    "basedir = '/media/harry/HarryExt/PhD/paper1/Data/AVHRR_ALL_example/'\n",
    "# sensors = ['AVHRR17_G', 'AVHRR18_G', 'AVHRR19_G', 'AVHRRMTA_G']\n",
    "\n",
    "# avhrr17Timeseries = pd.DataFrame(columns=['Date', 'Mean', 'Count'])\n",
    "avhrr17Timeseries = []\n",
    "avhrr18Timeseries = []\n",
    "avhrr19Timeseries = []\n",
    "avhrrmtaTimeseries = []\n",
    "allTimeseries = []\n",
    "\n",
    "# avhrr17Timeseries = np.zeros(2,1,1)\n",
    "# avhrr18Timeseries = np.zeros(2,1,1)\n",
    "# avhrr19Timeseries = np.zeros(2,1,1)\n",
    "# avhrrmtaTimeseries = np.zeros(2,1,1)\n",
    "# allTimeseries = np.zeros(2,1,1)\n",
    "\n",
    "startDate = datetime.date(2008, 12, 31)\n",
    "# endDate = datetime.date(2012, 4, 8)\n",
    "endDate = datetime.date(2009, 12, 31)\n",
    "dayIncrement = datetime.timedelta(days=1)\n",
    "\n",
    "currentDate = startDate\n",
    "\n",
    "while currentDate <= endDate:\n",
    "    print('Now processing for date: {0}'.format(currentDate))\n",
    "    totalObs = []\n",
    "    dataDir = os.path.join(basedir, 'Y{0}/M{1:02}/D{2:02}/'.format(currentDate.year, currentDate.month, currentDate.day))\n",
    "    \n",
    "    allFiles = glob.glob(dataDir + '/*.nc')\n",
    "    avhrr17Files = glob.glob(dataDir + '/*AVHRR17*.nc')\n",
    "    avhrr18Files = glob.glob(dataDir + '/*AVHRR18*.nc')\n",
    "    avhrr19Files = glob.glob(dataDir + '/*AVHRR19*.nc')\n",
    "    avhrrmtaFiles = glob.glob(dataDir + '/*AVHRRMTA*.nc')\n",
    "    \n",
    "    if len(avhrr17Files) > 0:\n",
    "        print('Processing AVHRR17 observations...')\n",
    "        avhrr17data = xr.open_mfdataset(avhrr17Files)\n",
    "        avhrr17data = avhrr17data.where(avhrr17data['quality_level']==5, drop=True)\n",
    "        avhrr17data = avhrr17data['sea_surface_temperature_depth']\n",
    "        avhrr17data = avhrr17data.where((avhrr17data.lat > -50) & (avhrr17data.lat < -10) & (avhrr17data.lon > 0) & (avhrr17data.lon < 60), drop=True)\n",
    "        avhrr17Timeseries.append([currentDate, np.nanmean(avhrr17data), avhrr17data.count().values])\n",
    "        totalObs.extend(np.ravel(avhrr17data))\n",
    "        avhrr17data.close()\n",
    "        \n",
    "    if len(avhrr18Files) > 0:\n",
    "        print('Processing AVHRR18 observations...')\n",
    "        avhrr18data = xr.open_mfdataset(avhrr18Files)\n",
    "        avhrr18data = avhrr18data.where(avhrr18data['quality_level']==5, drop=True)\n",
    "        avhrr18data = avhrr18data['sea_surface_temperature_depth']\n",
    "        avhrr18data = avhrr18data.where((avhrr18data.lat > -50) & (avhrr18data.lat < -10) & (avhrr18data.lon > 0) & (avhrr18data.lon < 60), drop=True)\n",
    "        avhrr18Timeseries.append([currentDate, np.nanmean(avhrr18data), avhrr18data.count().values])\n",
    "        totalObs.extend(np.ravel(avhrr18data))\n",
    "        avhrr18data.close()\n",
    "        \n",
    "    if len(avhrr19Files) > 0:\n",
    "        print('Processing AVHRR19 observations...')\n",
    "        avhrr19data = xr.open_mfdataset(avhrr19Files)\n",
    "        avhrr19data = avhrr19data.where(avhrr19data['quality_level']==5, drop=True)\n",
    "        avhrr19data = avhrr19data['sea_surface_temperature_depth']\n",
    "        avhrr19data = avhrr19data.where((avhrr19data.lat > -50) & (avhrr19data.lat < -10) & (avhrr19data.lon > 0) & (avhrr19data.lon < 60), drop=True)\n",
    "        avhrr19Timeseries.append([currentDate, np.nanmean(avhrr19data), avhrr19data.count().values])\n",
    "        totalObs.extend(np.ravel(b))\n",
    "        avhrr19data.close()\n",
    "        \n",
    "    if len(avhrrmtaFiles) > 0:\n",
    "        print('Processing AVHRRMTA observations...')\n",
    "        avhrrmtadata = xr.open_mfdataset(avhrrmtaFiles)\n",
    "        avhrrmtadata = avhrrmtadata.where(avhrrmtadata['quality_level']==5, drop=True)\n",
    "        avhrrmtadata = avhrrmtadata['sea_surface_temperature_depthsea_surface_temperature_depth']\n",
    "        avhrrmtadata = avhrrmtadata.where((avhrrmtadata.lat > -50) & (avhrrmtadata.lat < -10) & (avhrrmtadata.lon > 0) & (avhrrmtadata.lon < 60), drop=True)\n",
    "        avhrrmtaTimeseries.append([currentDate, np.nanmean(avhrrmtadata), avhrrmtadata.count().values])\n",
    "        totalObs.extend(np.ravel(avhrrmtadata))\n",
    "        avhrrmtadata.close()\n",
    "\n",
    "    allTimeseries.append([currentDate, np.nanmean(totalObs), (~np.isnan(totalObs)).sum()])\n",
    "    currentDate += dayIncrement\n",
    "\n",
    "avhrr17Timeseries = pd.DataFrame(avhrr17Timeseries, columns=['Date', 'Mean', 'Count'])\n",
    "avhrr18Timeseries = pd.DataFrame(avhrr18Timeseries, columns=['Date', 'Mean', 'Count'])\n",
    "avhrr19Timeseries = pd.DataFrame(avhrr19Timeseries, columns=['Date', 'Mean', 'Count'])\n",
    "avhrrmtaTimeseries = pd.DataFrame(avhrrmtaTimeseries, columns=['Date', 'Mean', 'Count'])\n",
    "allTimeseries = pd.DataFrame(allTimeseries, columns=['Date', 'Mean', 'Count'])"
   ]
  },
  {
   "cell_type": "code",
   "execution_count": 31,
   "metadata": {},
   "outputs": [
    {
     "ename": "TypeError",
     "evalue": "unhashable type: 'numpy.ndarray'",
     "output_type": "error",
     "traceback": [
      "\u001b[0;31m---------------------------------------------------------------------------\u001b[0m",
      "\u001b[0;31mTypeError\u001b[0m                                 Traceback (most recent call last)",
      "\u001b[0;32m<ipython-input-31-a85cd8e441c2>\u001b[0m in \u001b[0;36m<module>\u001b[0;34m\u001b[0m\n\u001b[1;32m      1\u001b[0m \u001b[0mavhrr17data\u001b[0m \u001b[0;34m=\u001b[0m \u001b[0mxr\u001b[0m\u001b[0;34m.\u001b[0m\u001b[0mopen_mfdataset\u001b[0m\u001b[0;34m(\u001b[0m\u001b[0mavhrr17Files\u001b[0m\u001b[0;34m,\u001b[0m \u001b[0mdata_vars\u001b[0m\u001b[0;34m=\u001b[0m\u001b[0;34m[\u001b[0m\u001b[0;34m'sea_surface_temperature_depth'\u001b[0m\u001b[0;34m]\u001b[0m\u001b[0;34m)\u001b[0m\u001b[0;34m\u001b[0m\u001b[0;34m\u001b[0m\u001b[0m\n\u001b[1;32m      2\u001b[0m \u001b[0;31m# avhrr17single = xr.open_dataset('/media/harry/HarryExt/PhD/paper1/Data/AVHRR_ALL_example/Y2008/M12/D31/20081231001030-ESACCI-L2P_GHRSST-SSTskin-AVHRR17_G-CDR2.1-v02.0-fv01.0.nc')\u001b[0m\u001b[0;34m\u001b[0m\u001b[0;34m\u001b[0m\u001b[0;34m\u001b[0m\u001b[0m\n\u001b[0;32m----> 3\u001b[0;31m \u001b[0mavhrr17data\u001b[0m \u001b[0;34m=\u001b[0m \u001b[0mavhrr17data\u001b[0m\u001b[0;34m[\u001b[0m\u001b[0mnp\u001b[0m\u001b[0;34m.\u001b[0m\u001b[0mwhere\u001b[0m\u001b[0;34m(\u001b[0m\u001b[0mavhrr17data\u001b[0m\u001b[0;34m.\u001b[0m\u001b[0mquality_level\u001b[0m\u001b[0;34m==\u001b[0m\u001b[0;36m5\u001b[0m\u001b[0;34m)\u001b[0m\u001b[0;34m]\u001b[0m\u001b[0;34m\u001b[0m\u001b[0;34m\u001b[0m\u001b[0m\n\u001b[0m\u001b[1;32m      4\u001b[0m \u001b[0;31m# avhrr17data = avhrr17data['sea_surface_temperature_depth']\u001b[0m\u001b[0;34m\u001b[0m\u001b[0;34m\u001b[0m\u001b[0;34m\u001b[0m\u001b[0m\n\u001b[1;32m      5\u001b[0m \u001b[0;31m# avhrr17data = avhrr17data.where((avhrr17data.lat > -50) & (avhrr17data.lat < -10) & (avhrr17data.lon > 0) & (avhrr17data.lon < 60), drop=True)\u001b[0m\u001b[0;34m\u001b[0m\u001b[0;34m\u001b[0m\u001b[0;34m\u001b[0m\u001b[0m\n",
      "\u001b[0;32m~/miniconda3/lib/python3.7/site-packages/xarray/core/dataset.py\u001b[0m in \u001b[0;36m__getitem__\u001b[0;34m(self, key)\u001b[0m\n\u001b[1;32m   1058\u001b[0m             \u001b[0;32mreturn\u001b[0m \u001b[0mself\u001b[0m\u001b[0;34m.\u001b[0m\u001b[0m_construct_dataarray\u001b[0m\u001b[0;34m(\u001b[0m\u001b[0mkey\u001b[0m\u001b[0;34m)\u001b[0m\u001b[0;34m\u001b[0m\u001b[0;34m\u001b[0m\u001b[0m\n\u001b[1;32m   1059\u001b[0m         \u001b[0;32melse\u001b[0m\u001b[0;34m:\u001b[0m\u001b[0;34m\u001b[0m\u001b[0;34m\u001b[0m\u001b[0m\n\u001b[0;32m-> 1060\u001b[0;31m             \u001b[0;32mreturn\u001b[0m \u001b[0mself\u001b[0m\u001b[0;34m.\u001b[0m\u001b[0m_copy_listed\u001b[0m\u001b[0;34m(\u001b[0m\u001b[0mnp\u001b[0m\u001b[0;34m.\u001b[0m\u001b[0masarray\u001b[0m\u001b[0;34m(\u001b[0m\u001b[0mkey\u001b[0m\u001b[0;34m)\u001b[0m\u001b[0;34m)\u001b[0m\u001b[0;34m\u001b[0m\u001b[0;34m\u001b[0m\u001b[0m\n\u001b[0m\u001b[1;32m   1061\u001b[0m \u001b[0;34m\u001b[0m\u001b[0m\n\u001b[1;32m   1062\u001b[0m     \u001b[0;32mdef\u001b[0m \u001b[0m__setitem__\u001b[0m\u001b[0;34m(\u001b[0m\u001b[0mself\u001b[0m\u001b[0;34m,\u001b[0m \u001b[0mkey\u001b[0m\u001b[0;34m,\u001b[0m \u001b[0mvalue\u001b[0m\u001b[0;34m)\u001b[0m\u001b[0;34m:\u001b[0m\u001b[0;34m\u001b[0m\u001b[0;34m\u001b[0m\u001b[0m\n",
      "\u001b[0;32m~/miniconda3/lib/python3.7/site-packages/xarray/core/dataset.py\u001b[0m in \u001b[0;36m_copy_listed\u001b[0;34m(self, names)\u001b[0m\n\u001b[1;32m    943\u001b[0m         \u001b[0;32mfor\u001b[0m \u001b[0mname\u001b[0m \u001b[0;32min\u001b[0m \u001b[0mnames\u001b[0m\u001b[0;34m:\u001b[0m\u001b[0;34m\u001b[0m\u001b[0;34m\u001b[0m\u001b[0m\n\u001b[1;32m    944\u001b[0m             \u001b[0;32mtry\u001b[0m\u001b[0;34m:\u001b[0m\u001b[0;34m\u001b[0m\u001b[0;34m\u001b[0m\u001b[0m\n\u001b[0;32m--> 945\u001b[0;31m                 \u001b[0mvariables\u001b[0m\u001b[0;34m[\u001b[0m\u001b[0mname\u001b[0m\u001b[0;34m]\u001b[0m \u001b[0;34m=\u001b[0m \u001b[0mself\u001b[0m\u001b[0;34m.\u001b[0m\u001b[0m_variables\u001b[0m\u001b[0;34m[\u001b[0m\u001b[0mname\u001b[0m\u001b[0;34m]\u001b[0m\u001b[0;34m\u001b[0m\u001b[0;34m\u001b[0m\u001b[0m\n\u001b[0m\u001b[1;32m    946\u001b[0m             \u001b[0;32mexcept\u001b[0m \u001b[0mKeyError\u001b[0m\u001b[0;34m:\u001b[0m\u001b[0;34m\u001b[0m\u001b[0;34m\u001b[0m\u001b[0m\n\u001b[1;32m    947\u001b[0m                 ref_name, var_name, var = _get_virtual_variable(\n",
      "\u001b[0;31mTypeError\u001b[0m: unhashable type: 'numpy.ndarray'"
     ]
    }
   ],
   "source": [
    "# avhrr17data = xr.open_mfdataset(avhrr17Files, data_vars=['sea_surface_temperature_depth'])\n",
    "# avhrr17single = xr.open_dataset('/media/harry/HarryExt/PhD/paper1/Data/AVHRR_ALL_example/Y2008/M12/D31/20081231001030-ESACCI-L2P_GHRSST-SSTskin-AVHRR17_G-CDR2.1-v02.0-fv01.0.nc')\n",
    "avhrr17data = avhrr17data[np.where(avhrr17data.quality_level==5)]\n",
    "# avhrr17data = avhrr17data['sea_surface_temperature_depth']\n",
    "# avhrr17data = avhrr17data.where((avhrr17data.lat > -50) & (avhrr17data.lat < -10) & (avhrr17data.lon > 0) & (avhrr17data.lon < 60), drop=True)\n",
    "avhrr17data\n",
    "# avhrr17single.to_dataframe()"
   ]
  },
  {
   "cell_type": "code",
   "execution_count": 18,
   "metadata": {},
   "outputs": [
    {
     "ename": "KeyError",
     "evalue": "0",
     "output_type": "error",
     "traceback": [
      "\u001b[0;31m---------------------------------------------------------------------------\u001b[0m",
      "\u001b[0;31mKeyError\u001b[0m                                  Traceback (most recent call last)",
      "\u001b[0;32m~/miniconda3/lib/python3.7/site-packages/xarray/core/dataset.py\u001b[0m in \u001b[0;36m_copy_listed\u001b[0;34m(self, names)\u001b[0m\n\u001b[1;32m    944\u001b[0m             \u001b[0;32mtry\u001b[0m\u001b[0;34m:\u001b[0m\u001b[0;34m\u001b[0m\u001b[0;34m\u001b[0m\u001b[0m\n\u001b[0;32m--> 945\u001b[0;31m                 \u001b[0mvariables\u001b[0m\u001b[0;34m[\u001b[0m\u001b[0mname\u001b[0m\u001b[0;34m]\u001b[0m \u001b[0;34m=\u001b[0m \u001b[0mself\u001b[0m\u001b[0;34m.\u001b[0m\u001b[0m_variables\u001b[0m\u001b[0;34m[\u001b[0m\u001b[0mname\u001b[0m\u001b[0;34m]\u001b[0m\u001b[0;34m\u001b[0m\u001b[0;34m\u001b[0m\u001b[0m\n\u001b[0m\u001b[1;32m    946\u001b[0m             \u001b[0;32mexcept\u001b[0m \u001b[0mKeyError\u001b[0m\u001b[0;34m:\u001b[0m\u001b[0;34m\u001b[0m\u001b[0;34m\u001b[0m\u001b[0m\n",
      "\u001b[0;31mKeyError\u001b[0m: 0",
      "\nDuring handling of the above exception, another exception occurred:\n",
      "\u001b[0;31mKeyError\u001b[0m                                  Traceback (most recent call last)",
      "\u001b[0;32m<ipython-input-18-20179ad45fb7>\u001b[0m in \u001b[0;36m<module>\u001b[0;34m\u001b[0m\n\u001b[1;32m      1\u001b[0m \u001b[0;31m# indx = np.where(avhrr17data['quality_level']==5)\u001b[0m\u001b[0;34m\u001b[0m\u001b[0;34m\u001b[0m\u001b[0;34m\u001b[0m\u001b[0m\n\u001b[0;32m----> 2\u001b[0;31m \u001b[0mavhrr17data\u001b[0m\u001b[0;34m[\u001b[0m\u001b[0mindx\u001b[0m\u001b[0;34m[\u001b[0m\u001b[0;36m0\u001b[0m\u001b[0;34m]\u001b[0m\u001b[0;34m]\u001b[0m\u001b[0;34m[\u001b[0m\u001b[0;36m0\u001b[0m\u001b[0;34m]\u001b[0m\u001b[0;34m\u001b[0m\u001b[0;34m\u001b[0m\u001b[0m\n\u001b[0m",
      "\u001b[0;32m~/miniconda3/lib/python3.7/site-packages/xarray/core/dataset.py\u001b[0m in \u001b[0;36m__getitem__\u001b[0;34m(self, key)\u001b[0m\n\u001b[1;32m   1058\u001b[0m             \u001b[0;32mreturn\u001b[0m \u001b[0mself\u001b[0m\u001b[0;34m.\u001b[0m\u001b[0m_construct_dataarray\u001b[0m\u001b[0;34m(\u001b[0m\u001b[0mkey\u001b[0m\u001b[0;34m)\u001b[0m\u001b[0;34m\u001b[0m\u001b[0;34m\u001b[0m\u001b[0m\n\u001b[1;32m   1059\u001b[0m         \u001b[0;32melse\u001b[0m\u001b[0;34m:\u001b[0m\u001b[0;34m\u001b[0m\u001b[0;34m\u001b[0m\u001b[0m\n\u001b[0;32m-> 1060\u001b[0;31m             \u001b[0;32mreturn\u001b[0m \u001b[0mself\u001b[0m\u001b[0;34m.\u001b[0m\u001b[0m_copy_listed\u001b[0m\u001b[0;34m(\u001b[0m\u001b[0mnp\u001b[0m\u001b[0;34m.\u001b[0m\u001b[0masarray\u001b[0m\u001b[0;34m(\u001b[0m\u001b[0mkey\u001b[0m\u001b[0;34m)\u001b[0m\u001b[0;34m)\u001b[0m\u001b[0;34m\u001b[0m\u001b[0;34m\u001b[0m\u001b[0m\n\u001b[0m\u001b[1;32m   1061\u001b[0m \u001b[0;34m\u001b[0m\u001b[0m\n\u001b[1;32m   1062\u001b[0m     \u001b[0;32mdef\u001b[0m \u001b[0m__setitem__\u001b[0m\u001b[0;34m(\u001b[0m\u001b[0mself\u001b[0m\u001b[0;34m,\u001b[0m \u001b[0mkey\u001b[0m\u001b[0;34m,\u001b[0m \u001b[0mvalue\u001b[0m\u001b[0;34m)\u001b[0m\u001b[0;34m:\u001b[0m\u001b[0;34m\u001b[0m\u001b[0;34m\u001b[0m\u001b[0m\n",
      "\u001b[0;32m~/miniconda3/lib/python3.7/site-packages/xarray/core/dataset.py\u001b[0m in \u001b[0;36m_copy_listed\u001b[0;34m(self, names)\u001b[0m\n\u001b[1;32m    946\u001b[0m             \u001b[0;32mexcept\u001b[0m \u001b[0mKeyError\u001b[0m\u001b[0;34m:\u001b[0m\u001b[0;34m\u001b[0m\u001b[0;34m\u001b[0m\u001b[0m\n\u001b[1;32m    947\u001b[0m                 ref_name, var_name, var = _get_virtual_variable(\n\u001b[0;32m--> 948\u001b[0;31m                     self._variables, name, self._level_coords, self.dims)\n\u001b[0m\u001b[1;32m    949\u001b[0m                 \u001b[0mvariables\u001b[0m\u001b[0;34m[\u001b[0m\u001b[0mvar_name\u001b[0m\u001b[0;34m]\u001b[0m \u001b[0;34m=\u001b[0m \u001b[0mvar\u001b[0m\u001b[0;34m\u001b[0m\u001b[0;34m\u001b[0m\u001b[0m\n\u001b[1;32m    950\u001b[0m                 \u001b[0;32mif\u001b[0m \u001b[0mref_name\u001b[0m \u001b[0;32min\u001b[0m \u001b[0mself\u001b[0m\u001b[0;34m.\u001b[0m\u001b[0m_coord_names\u001b[0m \u001b[0;32mor\u001b[0m \u001b[0mref_name\u001b[0m \u001b[0;32min\u001b[0m \u001b[0mself\u001b[0m\u001b[0;34m.\u001b[0m\u001b[0mdims\u001b[0m\u001b[0;34m:\u001b[0m\u001b[0;34m\u001b[0m\u001b[0;34m\u001b[0m\u001b[0m\n",
      "\u001b[0;32m~/miniconda3/lib/python3.7/site-packages/xarray/core/dataset.py\u001b[0m in \u001b[0;36m_get_virtual_variable\u001b[0;34m(variables, key, level_vars, dim_sizes)\u001b[0m\n\u001b[1;32m     66\u001b[0m \u001b[0;34m\u001b[0m\u001b[0m\n\u001b[1;32m     67\u001b[0m     \u001b[0;32mif\u001b[0m \u001b[0;32mnot\u001b[0m \u001b[0misinstance\u001b[0m\u001b[0;34m(\u001b[0m\u001b[0mkey\u001b[0m\u001b[0;34m,\u001b[0m \u001b[0mstr\u001b[0m\u001b[0;34m)\u001b[0m\u001b[0;34m:\u001b[0m\u001b[0;34m\u001b[0m\u001b[0;34m\u001b[0m\u001b[0m\n\u001b[0;32m---> 68\u001b[0;31m         \u001b[0;32mraise\u001b[0m \u001b[0mKeyError\u001b[0m\u001b[0;34m(\u001b[0m\u001b[0mkey\u001b[0m\u001b[0;34m)\u001b[0m\u001b[0;34m\u001b[0m\u001b[0;34m\u001b[0m\u001b[0m\n\u001b[0m\u001b[1;32m     69\u001b[0m \u001b[0;34m\u001b[0m\u001b[0m\n\u001b[1;32m     70\u001b[0m     \u001b[0msplit_key\u001b[0m \u001b[0;34m=\u001b[0m \u001b[0mkey\u001b[0m\u001b[0;34m.\u001b[0m\u001b[0msplit\u001b[0m\u001b[0;34m(\u001b[0m\u001b[0;34m'.'\u001b[0m\u001b[0;34m,\u001b[0m \u001b[0;36m1\u001b[0m\u001b[0;34m)\u001b[0m\u001b[0;34m\u001b[0m\u001b[0;34m\u001b[0m\u001b[0m\n",
      "\u001b[0;31mKeyError\u001b[0m: 0"
     ]
    }
   ],
   "source": [
    "# indx = np.where(avhrr17data['quality_level']==5)\n",
    "avhrr17data[indx[0]]"
   ]
  },
  {
   "cell_type": "code",
   "execution_count": 21,
   "metadata": {},
   "outputs": [
    {
     "data": {
      "text/plain": [
       "<xarray.Dataset>\n",
       "Dimensions:                                           (ni: 409, nj: 179856, time: 15)\n",
       "Coordinates:\n",
       "  * time                                              (time) datetime64[ns] 2009-01-01T00:03:17 ... 2009-01-01T23:36:48\n",
       "    lat                                               (nj, ni) float32 dask.array<shape=(179856, 409), chunksize=(9874, 409)>\n",
       "    lon                                               (nj, ni) float32 dask.array<shape=(179856, 409), chunksize=(9874, 409)>\n",
       "Dimensions without coordinates: ni, nj\n",
       "Data variables:\n",
       "    sea_surface_temperature                           (time, nj, ni) float32 dask.array<shape=(15, 179856, 409), chunksize=(15, 9874, 409)>\n",
       "    sea_surface_temperature_depth                     (time, nj, ni) float32 dask.array<shape=(15, 179856, 409), chunksize=(15, 9874, 409)>\n",
       "    sea_surface_temperature_depth_anomaly             (time, nj, ni) float32 dask.array<shape=(15, 179856, 409), chunksize=(15, 9874, 409)>\n",
       "    sst_dtime                                         (time, nj, ni) timedelta64[ns] dask.array<shape=(15, 179856, 409), chunksize=(15, 9874, 409)>\n",
       "    sst_depth_dtime                                   (time, nj, ni) timedelta64[ns] dask.array<shape=(15, 179856, 409), chunksize=(15, 9874, 409)>\n",
       "    sses_bias                                         (time, nj, ni) float32 dask.array<shape=(15, 179856, 409), chunksize=(15, 9874, 409)>\n",
       "    sses_standard_deviation                           (time, nj, ni) float32 dask.array<shape=(15, 179856, 409), chunksize=(15, 9874, 409)>\n",
       "    sea_surface_temperature_total_uncertainty         (time, nj, ni) float32 dask.array<shape=(15, 179856, 409), chunksize=(15, 9874, 409)>\n",
       "    sea_surface_temperature_depth_total_uncertainty   (time, nj, ni) float32 dask.array<shape=(15, 179856, 409), chunksize=(15, 9874, 409)>\n",
       "    depth_adjustment                                  (time, nj, ni) float32 dask.array<shape=(15, 179856, 409), chunksize=(15, 9874, 409)>\n",
       "    adjustment_alt                                    (time, nj, ni) float32 dask.array<shape=(15, 179856, 409), chunksize=(15, 9874, 409)>\n",
       "    l2p_flags                                         (time, nj, ni) float32 dask.array<shape=(15, 179856, 409), chunksize=(15, 9874, 409)>\n",
       "    quality_level                                     (time, nj, ni) float32 dask.array<shape=(15, 179856, 409), chunksize=(15, 9874, 409)>\n",
       "    wind_speed                                        (time, nj, ni) float32 dask.array<shape=(15, 179856, 409), chunksize=(15, 9874, 409)>\n",
       "    sea_surface_temperature_retrieval_type            (time, nj, ni) float32 dask.array<shape=(15, 179856, 409), chunksize=(15, 9874, 409)>\n",
       "    alt_sst_retrieval_type                            (time, nj, ni) float32 dask.array<shape=(15, 179856, 409), chunksize=(15, 9874, 409)>\n",
       "    uncertainty_random                                (time, nj, ni) float32 dask.array<shape=(15, 179856, 409), chunksize=(15, 9874, 409)>\n",
       "    uncertainty_correlated                            (time, nj, ni) float32 dask.array<shape=(15, 179856, 409), chunksize=(15, 9874, 409)>\n",
       "    uncertainty_systematic                            (time, nj, ni) float32 dask.array<shape=(15, 179856, 409), chunksize=(15, 9874, 409)>\n",
       "    uncertainty_correlated_time_and_depth_adjustment  (time, nj, ni) float32 dask.array<shape=(15, 179856, 409), chunksize=(15, 9874, 409)>\n",
       "    uncertainty_random_alt                            (time, nj, ni) float32 dask.array<shape=(15, 179856, 409), chunksize=(15, 9874, 409)>\n",
       "    uncertainty_correlated_alt                        (time, nj, ni) float32 dask.array<shape=(15, 179856, 409), chunksize=(15, 9874, 409)>\n",
       "    uncertainty_systematic_alt                        (time, nj, ni) float32 dask.array<shape=(15, 179856, 409), chunksize=(15, 9874, 409)>\n",
       "    sst_sensitivity                                   (time, nj, ni) float32 dask.array<shape=(15, 179856, 409), chunksize=(15, 9874, 409)>\n",
       "    empirical_adjustment                              (time, nj, ni) float32 dask.array<shape=(15, 179856, 409), chunksize=(15, 9874, 409)>\n",
       "Attributes:\n",
       "    Conventions:                     CF-1.5, Unidata Observation Dataset v1.0\n",
       "    title:                           ESA SST CCI AVHRR17_G L2P product\n",
       "    summary:                         AVHRR17_G L2P product from the ESA SST C...\n",
       "    references:                      http://www.esa-sst-cci.org\n",
       "    institution:                     ESACCI\n",
       "    history:                         Created using GBCS library v2.9.1\n",
       "    license:                         Creative Commons Licence by attribution ...\n",
       "    id:                              AVHRR17_G-ESACCI-L2P-CDR-v2.1\n",
       "    naming_authority:                org.ghrsst\n",
       "    product_version:                 2.1\n",
       "    uuid:                            823eec2a-245a-11e9-9025-d3e78b97ac91\n",
       "    tracking_id:                     823eec2a-245a-11e9-9025-d3e78b97ac91\n",
       "    gds_version_id:                  2.0\n",
       "    netcdf_version_id:               4.4.1.1 of Jan 31 2018 16:33:45\n",
       "    date_created:                    20190130T064436Z\n",
       "    file_quality_level:              3\n",
       "    spatial_resolution:               4.0 km at nadir\n",
       "    start_time:                      20090101T000317Z\n",
       "    time_coverage_start:             20090101T000317Z\n",
       "    stop_time:                       20090101T012533Z\n",
       "    time_coverage_end:               20090101T012533Z\n",
       "    time_coverage_duration:          P0DT01H22M16S\n",
       "    time_coverage_resolution:        P0DT1H40M00S\n",
       "    source:                          AVHRR17_G-ESACCI-L1C-v1, ERA_INTERIM-ECM...\n",
       "    platform:                        NOAA-17\n",
       "    sensor:                          AVHRR_GAC\n",
       "    Metadata_Conventions:            Unidata Dataset Discovery v1.0\n",
       "    metadata_link:                   http://www.esa-cci.org\n",
       "    keywords:                        Oceans > Ocean Temperature > Sea Surface...\n",
       "    keywords_vocabulary:             NASA Global change Master Directory (GCM...\n",
       "    standard_name_vocabulary:        NetCDF Climate and Forecast (CF) Metadat...\n",
       "    geospatial_lat_units:            degrees_north\n",
       "    geospatial_lat_resolution:       0.01\n",
       "    geospatial_lon_units:            degrees_east\n",
       "    geospatial_lon_resolution:       0.01\n",
       "    geospatial_vertical_min:         -0.2\n",
       "    geospatial_vertical_max:         -1e-05\n",
       "    acknowledgment:                  Funded by ESA\n",
       "    creator_name:                    ESA SST CCI\n",
       "    creator_email:                   science.leader@esa-sst-cci.org\n",
       "    creator_url:                     http://www.esa-sst-cci.org\n",
       "    creator_processing_institution:  These data were produced on the JASMIN i...\n",
       "    project:                         Climate Change Initiative - European Spa...\n",
       "    publisher_name:                  ESACCI\n",
       "    publisher_url:                   http://www.esa-sst-cci.org\n",
       "    publisher_email:                 science.leader@esa-SST-cci.org\n",
       "    comment:                         For information about uncertainty estima...\n",
       "    northernmost_latitude:           90.0\n",
       "    southernmost_latitude:           -90.0\n",
       "    easternmost_longitude:           180.0\n",
       "    westernmost_longitude:           -180.0\n",
       "    geospatial_lat_min:              -90.0\n",
       "    geospatial_lat_max:              90.0\n",
       "    geospatial_lon_min:              -180.0\n",
       "    geospatial_lon_max:              180.0\n",
       "    processing_level:                L2P\n",
       "    cdm_data_type:                   swath\n",
       "    source_file:                     20090101000317-ESACCI-L1C-AVHRR17_G-fv01...\n",
       "    product_specification_version:   SST_CCI-PSD-UKMO-201-Issue-2-signed"
      ]
     },
     "execution_count": 21,
     "metadata": {},
     "output_type": "execute_result"
    }
   ],
   "source": [
    "avhrr17data"
   ]
  },
  {
   "cell_type": "code",
   "execution_count": 6,
   "metadata": {},
   "outputs": [
    {
     "ename": "ValueError",
     "evalue": "operands could not be broadcast together with shapes (32445840,) (32127354,) ",
     "output_type": "error",
     "traceback": [
      "\u001b[0;31m---------------------------------------------------------------------------\u001b[0m",
      "\u001b[0;31mValueError\u001b[0m                                Traceback (most recent call last)",
      "\u001b[0;32m<ipython-input-6-fc4c143ada6d>\u001b[0m in \u001b[0;36m<module>\u001b[0;34m\u001b[0m\n\u001b[0;32m----> 1\u001b[0;31m \u001b[0mnp\u001b[0m\u001b[0;34m.\u001b[0m\u001b[0mnanmean\u001b[0m\u001b[0;34m(\u001b[0m\u001b[0mtotalObs\u001b[0m\u001b[0;34m)\u001b[0m\u001b[0;34m\u001b[0m\u001b[0;34m\u001b[0m\u001b[0m\n\u001b[0m",
      "\u001b[0;32m<__array_function__ internals>\u001b[0m in \u001b[0;36mnanmean\u001b[0;34m(*args, **kwargs)\u001b[0m\n",
      "\u001b[0;32m~/miniconda3/lib/python3.7/site-packages/numpy/lib/nanfunctions.py\u001b[0m in \u001b[0;36mnanmean\u001b[0;34m(a, axis, dtype, out, keepdims)\u001b[0m\n\u001b[1;32m    948\u001b[0m \u001b[0;34m\u001b[0m\u001b[0m\n\u001b[1;32m    949\u001b[0m     \u001b[0mcnt\u001b[0m \u001b[0;34m=\u001b[0m \u001b[0mnp\u001b[0m\u001b[0;34m.\u001b[0m\u001b[0msum\u001b[0m\u001b[0;34m(\u001b[0m\u001b[0;34m~\u001b[0m\u001b[0mmask\u001b[0m\u001b[0;34m,\u001b[0m \u001b[0maxis\u001b[0m\u001b[0;34m=\u001b[0m\u001b[0maxis\u001b[0m\u001b[0;34m,\u001b[0m \u001b[0mdtype\u001b[0m\u001b[0;34m=\u001b[0m\u001b[0mnp\u001b[0m\u001b[0;34m.\u001b[0m\u001b[0mintp\u001b[0m\u001b[0;34m,\u001b[0m \u001b[0mkeepdims\u001b[0m\u001b[0;34m=\u001b[0m\u001b[0mkeepdims\u001b[0m\u001b[0;34m)\u001b[0m\u001b[0;34m\u001b[0m\u001b[0;34m\u001b[0m\u001b[0m\n\u001b[0;32m--> 950\u001b[0;31m     \u001b[0mtot\u001b[0m \u001b[0;34m=\u001b[0m \u001b[0mnp\u001b[0m\u001b[0;34m.\u001b[0m\u001b[0msum\u001b[0m\u001b[0;34m(\u001b[0m\u001b[0marr\u001b[0m\u001b[0;34m,\u001b[0m \u001b[0maxis\u001b[0m\u001b[0;34m=\u001b[0m\u001b[0maxis\u001b[0m\u001b[0;34m,\u001b[0m \u001b[0mdtype\u001b[0m\u001b[0;34m=\u001b[0m\u001b[0mdtype\u001b[0m\u001b[0;34m,\u001b[0m \u001b[0mout\u001b[0m\u001b[0;34m=\u001b[0m\u001b[0mout\u001b[0m\u001b[0;34m,\u001b[0m \u001b[0mkeepdims\u001b[0m\u001b[0;34m=\u001b[0m\u001b[0mkeepdims\u001b[0m\u001b[0;34m)\u001b[0m\u001b[0;34m\u001b[0m\u001b[0;34m\u001b[0m\u001b[0m\n\u001b[0m\u001b[1;32m    951\u001b[0m     \u001b[0mavg\u001b[0m \u001b[0;34m=\u001b[0m \u001b[0m_divide_by_count\u001b[0m\u001b[0;34m(\u001b[0m\u001b[0mtot\u001b[0m\u001b[0;34m,\u001b[0m \u001b[0mcnt\u001b[0m\u001b[0;34m,\u001b[0m \u001b[0mout\u001b[0m\u001b[0;34m=\u001b[0m\u001b[0mout\u001b[0m\u001b[0;34m)\u001b[0m\u001b[0;34m\u001b[0m\u001b[0;34m\u001b[0m\u001b[0m\n\u001b[1;32m    952\u001b[0m \u001b[0;34m\u001b[0m\u001b[0m\n",
      "\u001b[0;32m<__array_function__ internals>\u001b[0m in \u001b[0;36msum\u001b[0;34m(*args, **kwargs)\u001b[0m\n",
      "\u001b[0;32m~/miniconda3/lib/python3.7/site-packages/numpy/core/fromnumeric.py\u001b[0m in \u001b[0;36msum\u001b[0;34m(a, axis, dtype, out, keepdims, initial, where)\u001b[0m\n\u001b[1;32m   2180\u001b[0m \u001b[0;34m\u001b[0m\u001b[0m\n\u001b[1;32m   2181\u001b[0m     return _wrapreduction(a, np.add, 'sum', axis, dtype, out, keepdims=keepdims,\n\u001b[0;32m-> 2182\u001b[0;31m                           initial=initial, where=where)\n\u001b[0m\u001b[1;32m   2183\u001b[0m \u001b[0;34m\u001b[0m\u001b[0m\n\u001b[1;32m   2184\u001b[0m \u001b[0;34m\u001b[0m\u001b[0m\n",
      "\u001b[0;32m~/miniconda3/lib/python3.7/site-packages/numpy/core/fromnumeric.py\u001b[0m in \u001b[0;36m_wrapreduction\u001b[0;34m(obj, ufunc, method, axis, dtype, out, **kwargs)\u001b[0m\n\u001b[1;32m     88\u001b[0m                 \u001b[0;32mreturn\u001b[0m \u001b[0mreduction\u001b[0m\u001b[0;34m(\u001b[0m\u001b[0maxis\u001b[0m\u001b[0;34m=\u001b[0m\u001b[0maxis\u001b[0m\u001b[0;34m,\u001b[0m \u001b[0mout\u001b[0m\u001b[0;34m=\u001b[0m\u001b[0mout\u001b[0m\u001b[0;34m,\u001b[0m \u001b[0;34m**\u001b[0m\u001b[0mpasskwargs\u001b[0m\u001b[0;34m)\u001b[0m\u001b[0;34m\u001b[0m\u001b[0;34m\u001b[0m\u001b[0m\n\u001b[1;32m     89\u001b[0m \u001b[0;34m\u001b[0m\u001b[0m\n\u001b[0;32m---> 90\u001b[0;31m     \u001b[0;32mreturn\u001b[0m \u001b[0mufunc\u001b[0m\u001b[0;34m.\u001b[0m\u001b[0mreduce\u001b[0m\u001b[0;34m(\u001b[0m\u001b[0mobj\u001b[0m\u001b[0;34m,\u001b[0m \u001b[0maxis\u001b[0m\u001b[0;34m,\u001b[0m \u001b[0mdtype\u001b[0m\u001b[0;34m,\u001b[0m \u001b[0mout\u001b[0m\u001b[0;34m,\u001b[0m \u001b[0;34m**\u001b[0m\u001b[0mpasskwargs\u001b[0m\u001b[0;34m)\u001b[0m\u001b[0;34m\u001b[0m\u001b[0;34m\u001b[0m\u001b[0m\n\u001b[0m\u001b[1;32m     91\u001b[0m \u001b[0;34m\u001b[0m\u001b[0m\n\u001b[1;32m     92\u001b[0m \u001b[0;34m\u001b[0m\u001b[0m\n",
      "\u001b[0;31mValueError\u001b[0m: operands could not be broadcast together with shapes (32445840,) (32127354,) "
     ]
    }
   ],
   "source": [
    "np.nanmean(totalObs)"
   ]
  },
  {
   "cell_type": "code",
   "execution_count": 77,
   "metadata": {},
   "outputs": [
    {
     "data": {
      "text/plain": [
       "array([nan, nan, nan, ..., nan, nan, nan], dtype=float32)"
      ]
     },
     "execution_count": 77,
     "metadata": {},
     "output_type": "execute_result"
    }
   ],
   "source": [
    "# np.ravel(totalObs.values, order='K')\n",
    "# np.concatenate(totalObs).ravel()\n",
    "# np.array(totalObs).reshape(-1)\n",
    "# np.flatnonzero(totalObs)\n",
    "# np.nanmean(totalObs)\n",
    "# avhrr17data.count().values\n",
    "# (~np.isnan(avhrr17data)).sum().values\n",
    "\n",
    "np.ravel(avhrrmtadata)"
   ]
  },
  {
   "cell_type": "code",
   "execution_count": 4,
   "metadata": {
    "scrolled": true
   },
   "outputs": [
    {
     "data": {
      "text/plain": [
       "<xarray.Dataset>\n",
       "Dimensions:                                           (ni: 409, nj: 179856, time: 15)\n",
       "Coordinates:\n",
       "  * time                                              (time) datetime64[ns] 2009-01-01T00:03:17 ... 2009-01-01T23:36:48\n",
       "    lat                                               (nj, ni) float32 dask.array<shape=(179856, 409), chunksize=(9874, 409)>\n",
       "    lon                                               (nj, ni) float32 dask.array<shape=(179856, 409), chunksize=(9874, 409)>\n",
       "Dimensions without coordinates: ni, nj\n",
       "Data variables:\n",
       "    sea_surface_temperature                           (time, nj, ni) float32 dask.array<shape=(15, 179856, 409), chunksize=(15, 9874, 409)>\n",
       "    sea_surface_temperature_depth                     (time, nj, ni) float32 dask.array<shape=(15, 179856, 409), chunksize=(15, 9874, 409)>\n",
       "    sea_surface_temperature_depth_anomaly             (time, nj, ni) float32 dask.array<shape=(15, 179856, 409), chunksize=(15, 9874, 409)>\n",
       "    sst_dtime                                         (time, nj, ni) timedelta64[ns] dask.array<shape=(15, 179856, 409), chunksize=(15, 9874, 409)>\n",
       "    sst_depth_dtime                                   (time, nj, ni) timedelta64[ns] dask.array<shape=(15, 179856, 409), chunksize=(15, 9874, 409)>\n",
       "    sses_bias                                         (time, nj, ni) float32 dask.array<shape=(15, 179856, 409), chunksize=(15, 9874, 409)>\n",
       "    sses_standard_deviation                           (time, nj, ni) float32 dask.array<shape=(15, 179856, 409), chunksize=(15, 9874, 409)>\n",
       "    sea_surface_temperature_total_uncertainty         (time, nj, ni) float32 dask.array<shape=(15, 179856, 409), chunksize=(15, 9874, 409)>\n",
       "    sea_surface_temperature_depth_total_uncertainty   (time, nj, ni) float32 dask.array<shape=(15, 179856, 409), chunksize=(15, 9874, 409)>\n",
       "    depth_adjustment                                  (time, nj, ni) float32 dask.array<shape=(15, 179856, 409), chunksize=(15, 9874, 409)>\n",
       "    adjustment_alt                                    (time, nj, ni) float32 dask.array<shape=(15, 179856, 409), chunksize=(15, 9874, 409)>\n",
       "    l2p_flags                                         (time, nj, ni) float32 dask.array<shape=(15, 179856, 409), chunksize=(15, 9874, 409)>\n",
       "    quality_level                                     (time, nj, ni) float32 dask.array<shape=(15, 179856, 409), chunksize=(15, 9874, 409)>\n",
       "    wind_speed                                        (time, nj, ni) float32 dask.array<shape=(15, 179856, 409), chunksize=(15, 9874, 409)>\n",
       "    sea_surface_temperature_retrieval_type            (time, nj, ni) float32 dask.array<shape=(15, 179856, 409), chunksize=(15, 9874, 409)>\n",
       "    alt_sst_retrieval_type                            (time, nj, ni) float32 dask.array<shape=(15, 179856, 409), chunksize=(15, 9874, 409)>\n",
       "    uncertainty_random                                (time, nj, ni) float32 dask.array<shape=(15, 179856, 409), chunksize=(15, 9874, 409)>\n",
       "    uncertainty_correlated                            (time, nj, ni) float32 dask.array<shape=(15, 179856, 409), chunksize=(15, 9874, 409)>\n",
       "    uncertainty_systematic                            (time, nj, ni) float32 dask.array<shape=(15, 179856, 409), chunksize=(15, 9874, 409)>\n",
       "    uncertainty_correlated_time_and_depth_adjustment  (time, nj, ni) float32 dask.array<shape=(15, 179856, 409), chunksize=(15, 9874, 409)>\n",
       "    uncertainty_random_alt                            (time, nj, ni) float32 dask.array<shape=(15, 179856, 409), chunksize=(15, 9874, 409)>\n",
       "    uncertainty_correlated_alt                        (time, nj, ni) float32 dask.array<shape=(15, 179856, 409), chunksize=(15, 9874, 409)>\n",
       "    uncertainty_systematic_alt                        (time, nj, ni) float32 dask.array<shape=(15, 179856, 409), chunksize=(15, 9874, 409)>\n",
       "    sst_sensitivity                                   (time, nj, ni) float32 dask.array<shape=(15, 179856, 409), chunksize=(15, 9874, 409)>\n",
       "    empirical_adjustment                              (time, nj, ni) float32 dask.array<shape=(15, 179856, 409), chunksize=(15, 9874, 409)>\n",
       "Attributes:\n",
       "    Conventions:                     CF-1.5, Unidata Observation Dataset v1.0\n",
       "    title:                           ESA SST CCI AVHRR17_G L2P product\n",
       "    summary:                         AVHRR17_G L2P product from the ESA SST C...\n",
       "    references:                      http://www.esa-sst-cci.org\n",
       "    institution:                     ESACCI\n",
       "    history:                         Created using GBCS library v2.9.1\n",
       "    license:                         Creative Commons Licence by attribution ...\n",
       "    id:                              AVHRR17_G-ESACCI-L2P-CDR-v2.1\n",
       "    naming_authority:                org.ghrsst\n",
       "    product_version:                 2.1\n",
       "    uuid:                            823eec2a-245a-11e9-9025-d3e78b97ac91\n",
       "    tracking_id:                     823eec2a-245a-11e9-9025-d3e78b97ac91\n",
       "    gds_version_id:                  2.0\n",
       "    netcdf_version_id:               4.4.1.1 of Jan 31 2018 16:33:45\n",
       "    date_created:                    20190130T064436Z\n",
       "    file_quality_level:              3\n",
       "    spatial_resolution:               4.0 km at nadir\n",
       "    start_time:                      20090101T000317Z\n",
       "    time_coverage_start:             20090101T000317Z\n",
       "    stop_time:                       20090101T012533Z\n",
       "    time_coverage_end:               20090101T012533Z\n",
       "    time_coverage_duration:          P0DT01H22M16S\n",
       "    time_coverage_resolution:        P0DT1H40M00S\n",
       "    source:                          AVHRR17_G-ESACCI-L1C-v1, ERA_INTERIM-ECM...\n",
       "    platform:                        NOAA-17\n",
       "    sensor:                          AVHRR_GAC\n",
       "    Metadata_Conventions:            Unidata Dataset Discovery v1.0\n",
       "    metadata_link:                   http://www.esa-cci.org\n",
       "    keywords:                        Oceans > Ocean Temperature > Sea Surface...\n",
       "    keywords_vocabulary:             NASA Global change Master Directory (GCM...\n",
       "    standard_name_vocabulary:        NetCDF Climate and Forecast (CF) Metadat...\n",
       "    geospatial_lat_units:            degrees_north\n",
       "    geospatial_lat_resolution:       0.01\n",
       "    geospatial_lon_units:            degrees_east\n",
       "    geospatial_lon_resolution:       0.01\n",
       "    geospatial_vertical_min:         -0.2\n",
       "    geospatial_vertical_max:         -1e-05\n",
       "    acknowledgment:                  Funded by ESA\n",
       "    creator_name:                    ESA SST CCI\n",
       "    creator_email:                   science.leader@esa-sst-cci.org\n",
       "    creator_url:                     http://www.esa-sst-cci.org\n",
       "    creator_processing_institution:  These data were produced on the JASMIN i...\n",
       "    project:                         Climate Change Initiative - European Spa...\n",
       "    publisher_name:                  ESACCI\n",
       "    publisher_url:                   http://www.esa-sst-cci.org\n",
       "    publisher_email:                 science.leader@esa-SST-cci.org\n",
       "    comment:                         For information about uncertainty estima...\n",
       "    northernmost_latitude:           90.0\n",
       "    southernmost_latitude:           -90.0\n",
       "    easternmost_longitude:           180.0\n",
       "    westernmost_longitude:           -180.0\n",
       "    geospatial_lat_min:              -90.0\n",
       "    geospatial_lat_max:              90.0\n",
       "    geospatial_lon_min:              -180.0\n",
       "    geospatial_lon_max:              180.0\n",
       "    processing_level:                L2P\n",
       "    cdm_data_type:                   swath\n",
       "    source_file:                     20090101000317-ESACCI-L1C-AVHRR17_G-fv01...\n",
       "    product_specification_version:   SST_CCI-PSD-UKMO-201-Issue-2-signed"
      ]
     },
     "execution_count": 4,
     "metadata": {},
     "output_type": "execute_result"
    }
   ],
   "source": [
    "avhrr17data = xr.open_mfdataset(avhrr17Files)\n",
    "avhrr17data = avhrr17data.where(avhrr17data['quality_level']==5)\n",
    "avhrr17data"
   ]
  },
  {
   "cell_type": "code",
   "execution_count": 32,
   "metadata": {},
   "outputs": [
    {
     "ename": "TypeError",
     "evalue": "count() got an unexpected keyword argument 'dropna'",
     "output_type": "error",
     "traceback": [
      "\u001b[0;31m---------------------------------------------------------------------------\u001b[0m",
      "\u001b[0;31mTypeError\u001b[0m                                 Traceback (most recent call last)",
      "\u001b[0;32m<ipython-input-32-9d4261a3f462>\u001b[0m in \u001b[0;36m<module>\u001b[0;34m\u001b[0m\n\u001b[1;32m      3\u001b[0m \u001b[0mavhrr17data\u001b[0m \u001b[0;34m=\u001b[0m \u001b[0mavhrr17data\u001b[0m\u001b[0;34m[\u001b[0m\u001b[0;34m'sea_surface_temperature_depth'\u001b[0m\u001b[0;34m]\u001b[0m\u001b[0;34m\u001b[0m\u001b[0;34m\u001b[0m\u001b[0m\n\u001b[1;32m      4\u001b[0m \u001b[0mavhrr17data\u001b[0m \u001b[0;34m=\u001b[0m \u001b[0mavhrr17data\u001b[0m\u001b[0;34m.\u001b[0m\u001b[0mwhere\u001b[0m\u001b[0;34m(\u001b[0m\u001b[0;34m(\u001b[0m\u001b[0mavhrr17data\u001b[0m\u001b[0;34m.\u001b[0m\u001b[0mlat\u001b[0m \u001b[0;34m>\u001b[0m \u001b[0;34m-\u001b[0m\u001b[0;36m50\u001b[0m\u001b[0;34m)\u001b[0m \u001b[0;34m&\u001b[0m \u001b[0;34m(\u001b[0m\u001b[0mavhrr17data\u001b[0m\u001b[0;34m.\u001b[0m\u001b[0mlat\u001b[0m \u001b[0;34m<\u001b[0m \u001b[0;34m-\u001b[0m\u001b[0;36m10\u001b[0m\u001b[0;34m)\u001b[0m \u001b[0;34m&\u001b[0m \u001b[0;34m(\u001b[0m\u001b[0mavhrr17data\u001b[0m\u001b[0;34m.\u001b[0m\u001b[0mlon\u001b[0m \u001b[0;34m>\u001b[0m \u001b[0;36m0\u001b[0m\u001b[0;34m)\u001b[0m \u001b[0;34m&\u001b[0m \u001b[0;34m(\u001b[0m\u001b[0mavhrr17data\u001b[0m\u001b[0;34m.\u001b[0m\u001b[0mlon\u001b[0m \u001b[0;34m<\u001b[0m \u001b[0;36m60\u001b[0m\u001b[0;34m)\u001b[0m\u001b[0;34m,\u001b[0m \u001b[0mdrop\u001b[0m\u001b[0;34m=\u001b[0m\u001b[0;32mTrue\u001b[0m\u001b[0;34m)\u001b[0m\u001b[0;34m\u001b[0m\u001b[0;34m\u001b[0m\u001b[0m\n\u001b[0;32m----> 5\u001b[0;31m \u001b[0mavhrr17Timeseries\u001b[0m\u001b[0;34m.\u001b[0m\u001b[0mappend\u001b[0m\u001b[0;34m(\u001b[0m\u001b[0;34m[\u001b[0m\u001b[0mcurrentDate\u001b[0m\u001b[0;34m,\u001b[0m \u001b[0mnp\u001b[0m\u001b[0;34m.\u001b[0m\u001b[0mmean\u001b[0m\u001b[0;34m(\u001b[0m\u001b[0mavhrr17data\u001b[0m\u001b[0;34m)\u001b[0m\u001b[0;34m.\u001b[0m\u001b[0mvalues\u001b[0m\u001b[0;34m,\u001b[0m \u001b[0mavhrr17data\u001b[0m\u001b[0;34m.\u001b[0m\u001b[0mcount\u001b[0m\u001b[0;34m(\u001b[0m\u001b[0mdropna\u001b[0m\u001b[0;34m=\u001b[0m\u001b[0;32mTrue\u001b[0m\u001b[0;34m)\u001b[0m\u001b[0;34m.\u001b[0m\u001b[0mvalues\u001b[0m\u001b[0;34m]\u001b[0m\u001b[0;34m)\u001b[0m\u001b[0;34m\u001b[0m\u001b[0;34m\u001b[0m\u001b[0m\n\u001b[0m\u001b[1;32m      6\u001b[0m \u001b[0mtotalObs\u001b[0m\u001b[0;34m.\u001b[0m\u001b[0mappend\u001b[0m\u001b[0;34m(\u001b[0m\u001b[0mavhrr17data\u001b[0m\u001b[0;34m.\u001b[0m\u001b[0mvalues\u001b[0m\u001b[0;34m)\u001b[0m\u001b[0;34m\u001b[0m\u001b[0;34m\u001b[0m\u001b[0m\n\u001b[1;32m      7\u001b[0m \u001b[0;31m# avhrr17data.close()\u001b[0m\u001b[0;34m\u001b[0m\u001b[0;34m\u001b[0m\u001b[0;34m\u001b[0m\u001b[0m\n",
      "\u001b[0;32m~/miniconda3/lib/python3.7/site-packages/xarray/core/common.py\u001b[0m in \u001b[0;36mwrapped_func\u001b[0;34m(self, dim, axis, **kwargs)\u001b[0m\n\u001b[1;32m     28\u001b[0m                              **kwargs):\n\u001b[1;32m     29\u001b[0m                 return self.reduce(func, dim, axis,\n\u001b[0;32m---> 30\u001b[0;31m                                    allow_lazy=True, **kwargs)\n\u001b[0m\u001b[1;32m     31\u001b[0m         \u001b[0;32mreturn\u001b[0m \u001b[0mwrapped_func\u001b[0m\u001b[0;34m\u001b[0m\u001b[0;34m\u001b[0m\u001b[0m\n\u001b[1;32m     32\u001b[0m \u001b[0;34m\u001b[0m\u001b[0m\n",
      "\u001b[0;32m~/miniconda3/lib/python3.7/site-packages/xarray/core/dataarray.py\u001b[0m in \u001b[0;36mreduce\u001b[0;34m(self, func, dim, axis, keep_attrs, **kwargs)\u001b[0m\n\u001b[1;32m   1634\u001b[0m         \"\"\"\n\u001b[1;32m   1635\u001b[0m \u001b[0;34m\u001b[0m\u001b[0m\n\u001b[0;32m-> 1636\u001b[0;31m         \u001b[0mvar\u001b[0m \u001b[0;34m=\u001b[0m \u001b[0mself\u001b[0m\u001b[0;34m.\u001b[0m\u001b[0mvariable\u001b[0m\u001b[0;34m.\u001b[0m\u001b[0mreduce\u001b[0m\u001b[0;34m(\u001b[0m\u001b[0mfunc\u001b[0m\u001b[0;34m,\u001b[0m \u001b[0mdim\u001b[0m\u001b[0;34m,\u001b[0m \u001b[0maxis\u001b[0m\u001b[0;34m,\u001b[0m \u001b[0mkeep_attrs\u001b[0m\u001b[0;34m,\u001b[0m \u001b[0;34m**\u001b[0m\u001b[0mkwargs\u001b[0m\u001b[0;34m)\u001b[0m\u001b[0;34m\u001b[0m\u001b[0;34m\u001b[0m\u001b[0m\n\u001b[0m\u001b[1;32m   1637\u001b[0m         \u001b[0;32mreturn\u001b[0m \u001b[0mself\u001b[0m\u001b[0;34m.\u001b[0m\u001b[0m_replace_maybe_drop_dims\u001b[0m\u001b[0;34m(\u001b[0m\u001b[0mvar\u001b[0m\u001b[0;34m)\u001b[0m\u001b[0;34m\u001b[0m\u001b[0;34m\u001b[0m\u001b[0m\n\u001b[1;32m   1638\u001b[0m \u001b[0;34m\u001b[0m\u001b[0m\n",
      "\u001b[0;32m~/miniconda3/lib/python3.7/site-packages/xarray/core/variable.py\u001b[0m in \u001b[0;36mreduce\u001b[0;34m(self, func, dim, axis, keep_attrs, allow_lazy, **kwargs)\u001b[0m\n\u001b[1;32m   1371\u001b[0m             \u001b[0mdata\u001b[0m \u001b[0;34m=\u001b[0m \u001b[0mfunc\u001b[0m\u001b[0;34m(\u001b[0m\u001b[0minput_data\u001b[0m\u001b[0;34m,\u001b[0m \u001b[0maxis\u001b[0m\u001b[0;34m=\u001b[0m\u001b[0maxis\u001b[0m\u001b[0;34m,\u001b[0m \u001b[0;34m**\u001b[0m\u001b[0mkwargs\u001b[0m\u001b[0;34m)\u001b[0m\u001b[0;34m\u001b[0m\u001b[0;34m\u001b[0m\u001b[0m\n\u001b[1;32m   1372\u001b[0m         \u001b[0;32melse\u001b[0m\u001b[0;34m:\u001b[0m\u001b[0;34m\u001b[0m\u001b[0;34m\u001b[0m\u001b[0m\n\u001b[0;32m-> 1373\u001b[0;31m             \u001b[0mdata\u001b[0m \u001b[0;34m=\u001b[0m \u001b[0mfunc\u001b[0m\u001b[0;34m(\u001b[0m\u001b[0minput_data\u001b[0m\u001b[0;34m,\u001b[0m \u001b[0;34m**\u001b[0m\u001b[0mkwargs\u001b[0m\u001b[0;34m)\u001b[0m\u001b[0;34m\u001b[0m\u001b[0;34m\u001b[0m\u001b[0m\n\u001b[0m\u001b[1;32m   1374\u001b[0m \u001b[0;34m\u001b[0m\u001b[0m\n\u001b[1;32m   1375\u001b[0m         \u001b[0;32mif\u001b[0m \u001b[0mgetattr\u001b[0m\u001b[0;34m(\u001b[0m\u001b[0mdata\u001b[0m\u001b[0;34m,\u001b[0m \u001b[0;34m'shape'\u001b[0m\u001b[0;34m,\u001b[0m \u001b[0;34m(\u001b[0m\u001b[0;34m)\u001b[0m\u001b[0;34m)\u001b[0m \u001b[0;34m==\u001b[0m \u001b[0mself\u001b[0m\u001b[0;34m.\u001b[0m\u001b[0mshape\u001b[0m\u001b[0;34m:\u001b[0m\u001b[0;34m\u001b[0m\u001b[0;34m\u001b[0m\u001b[0m\n",
      "\u001b[0;31mTypeError\u001b[0m: count() got an unexpected keyword argument 'dropna'"
     ]
    }
   ],
   "source": [
    "avhrr17data = xr.open_mfdataset(avhrr17Files)\n",
    "avhrr17data = avhrr17data.where(avhrr17data['quality_level']==5, drop=True)\n",
    "avhrr17data = avhrr17data['sea_surface_temperature_depth']\n",
    "avhrr17data = avhrr17data.where((avhrr17data.lat > -50) & (avhrr17data.lat < -10) & (avhrr17data.lon > 0) & (avhrr17data.lon < 60), drop=True)\n",
    "avhrr17Timeseries.append([currentDate, np.mean(avhrr17data).values, avhrr17data.count().values])\n",
    "totalObs.append(avhrr17data.values)\n",
    "# avhrr17data.close()"
   ]
  },
  {
   "cell_type": "code",
   "execution_count": 15,
   "metadata": {},
   "outputs": [
    {
     "data": {
      "text/html": [
       "<div>\n",
       "<style scoped>\n",
       "    .dataframe tbody tr th:only-of-type {\n",
       "        vertical-align: middle;\n",
       "    }\n",
       "\n",
       "    .dataframe tbody tr th {\n",
       "        vertical-align: top;\n",
       "    }\n",
       "\n",
       "    .dataframe thead th {\n",
       "        text-align: right;\n",
       "    }\n",
       "</style>\n",
       "<table border=\"1\" class=\"dataframe\">\n",
       "  <thead>\n",
       "    <tr style=\"text-align: right;\">\n",
       "      <th></th>\n",
       "      <th>Date</th>\n",
       "      <th>Mean</th>\n",
       "      <th>Count</th>\n",
       "    </tr>\n",
       "  </thead>\n",
       "  <tbody>\n",
       "    <tr>\n",
       "      <td>0</td>\n",
       "      <td>2009-01-02</td>\n",
       "      <td>295.77762</td>\n",
       "      <td>458767</td>\n",
       "    </tr>\n",
       "    <tr>\n",
       "      <td>1</td>\n",
       "      <td>2009-01-02</td>\n",
       "      <td>&lt;xarray.DataArray 'sea_surface_temperature_dep...</td>\n",
       "      <td>&lt;xarray.DataArray 'sea_surface_temperature_dep...</td>\n",
       "    </tr>\n",
       "    <tr>\n",
       "      <td>2</td>\n",
       "      <td>2009-01-02</td>\n",
       "      <td>&lt;xarray.DataArray 'sea_surface_temperature_dep...</td>\n",
       "      <td>&lt;xarray.DataArray 'sea_surface_temperature_dep...</td>\n",
       "    </tr>\n",
       "  </tbody>\n",
       "</table>\n",
       "</div>"
      ],
      "text/plain": [
       "         Date                                               Mean  \\\n",
       "0  2009-01-02                                          295.77762   \n",
       "1  2009-01-02  <xarray.DataArray 'sea_surface_temperature_dep...   \n",
       "2  2009-01-02  <xarray.DataArray 'sea_surface_temperature_dep...   \n",
       "\n",
       "                                               Count  \n",
       "0                                             458767  \n",
       "1  <xarray.DataArray 'sea_surface_temperature_dep...  \n",
       "2  <xarray.DataArray 'sea_surface_temperature_dep...  "
      ]
     },
     "execution_count": 15,
     "metadata": {},
     "output_type": "execute_result"
    }
   ],
   "source": [
    "pd.DataFrame(avhrr17Timeseries, columns=['Date', 'Mean', 'Count'])"
   ]
  },
  {
   "cell_type": "code",
   "execution_count": 29,
   "metadata": {},
   "outputs": [
    {
     "data": {
      "text/plain": [
       "array([ 1.,  1.,  1., nan,  1.,  1.])"
      ]
     },
     "execution_count": 29,
     "metadata": {},
     "output_type": "execute_result"
    }
   ],
   "source": [
    "tester = np.array([1,1,1,np.nan,1,1])\n",
    "tester"
   ]
  },
  {
   "cell_type": "code",
   "execution_count": 36,
   "metadata": {},
   "outputs": [
    {
     "data": {
      "text/plain": [
       "array(458767)"
      ]
     },
     "execution_count": 36,
     "metadata": {},
     "output_type": "execute_result"
    }
   ],
   "source": [
    "# np.isnan(avhrr17data)\n",
    "(~np.isnan(avhrr17data)).sum().values"
   ]
  },
  {
   "cell_type": "code",
   "execution_count": 8,
   "metadata": {},
   "outputs": [
    {
     "ename": "AttributeError",
     "evalue": "'numpy.ndarray' object has no attribute 'dropna'",
     "output_type": "error",
     "traceback": [
      "\u001b[0;31m---------------------------------------------------------------------------\u001b[0m",
      "\u001b[0;31mAttributeError\u001b[0m                            Traceback (most recent call last)",
      "\u001b[0;32m<ipython-input-8-5b32fbb995df>\u001b[0m in \u001b[0;36m<module>\u001b[0;34m\u001b[0m\n\u001b[1;32m      7\u001b[0m \u001b[0;31m# avhrr17data\u001b[0m\u001b[0;34m\u001b[0m\u001b[0;34m\u001b[0m\u001b[0;34m\u001b[0m\u001b[0m\n\u001b[1;32m      8\u001b[0m \u001b[0msst\u001b[0m \u001b[0;34m=\u001b[0m \u001b[0mavhrr17data\u001b[0m\u001b[0;34m[\u001b[0m\u001b[0;34m'sea_surface_temperature_depth'\u001b[0m\u001b[0;34m]\u001b[0m\u001b[0;34m.\u001b[0m\u001b[0mvalues\u001b[0m\u001b[0;34m.\u001b[0m\u001b[0mravel\u001b[0m\u001b[0;34m(\u001b[0m\u001b[0;34m)\u001b[0m\u001b[0;34m\u001b[0m\u001b[0;34m\u001b[0m\u001b[0m\n\u001b[0;32m----> 9\u001b[0;31m \u001b[0mtest\u001b[0m \u001b[0;34m=\u001b[0m \u001b[0msst\u001b[0m\u001b[0;34m.\u001b[0m\u001b[0mdropna\u001b[0m\u001b[0;34m(\u001b[0m\u001b[0;34m)\u001b[0m\u001b[0;34m\u001b[0m\u001b[0;34m\u001b[0m\u001b[0m\n\u001b[0m\u001b[1;32m     10\u001b[0m \u001b[0mtest\u001b[0m\u001b[0;34m\u001b[0m\u001b[0;34m\u001b[0m\u001b[0m\n",
      "\u001b[0;31mAttributeError\u001b[0m: 'numpy.ndarray' object has no attribute 'dropna'"
     ]
    }
   ],
   "source": [
    "\n",
    "# avhrr17data[np.where((avhrr17data.lat > -50) & (avhrr17data.lat < -10) & (avhrr17data.lon > 0) & (avhrr17data.lon < 60))[:,0]]\n",
    "# avhrr17data = avhrr17data.where((avhrr17data.lat > -50) & (avhrr17data.lat < -10) & (avhrr17data.lon > 0) & (avhrr17data.lon < 60))\n",
    "# np.where((avhrr17data.lat > -50) & (avhrr17data.lat < -10) & (avhrr17data.lon > 0) & (avhrr17data.lon < 60))\n",
    "# avhrr17data['sea_surface_temperature_depth'].values\n",
    "# indx = np.where((avhrr17data.lat > -50))\n",
    "# indx[1].shape\n",
    "# avhrr17data\n",
    "sst = avhrr17data['sea_surface_temperature_depth'].values.ravel()\n",
    "test = sst.dropna()\n",
    "test"
   ]
  },
  {
   "cell_type": "code",
   "execution_count": 4,
   "metadata": {},
   "outputs": [
    {
     "data": {
      "text/plain": [
       "<xarray.Dataset>\n",
       "Dimensions:                                           (ni: 409, nj: 171401, time: 14)\n",
       "Coordinates:\n",
       "  * time                                              (time) datetime64[ns] 2008-12-31T00:10:30 ... 2008-12-31T22:20:50\n",
       "    lat                                               (nj, ni) float32 dask.array<shape=(171401, 409), chunksize=(11646, 409)>\n",
       "    lon                                               (nj, ni) float32 dask.array<shape=(171401, 409), chunksize=(11646, 409)>\n",
       "Dimensions without coordinates: ni, nj\n",
       "Data variables:\n",
       "    sea_surface_temperature                           (time, nj, ni) float32 dask.array<shape=(14, 171401, 409), chunksize=(14, 11646, 409)>\n",
       "    sea_surface_temperature_depth                     (time, nj, ni) float32 dask.array<shape=(14, 171401, 409), chunksize=(14, 11646, 409)>\n",
       "    sea_surface_temperature_depth_anomaly             (time, nj, ni) float32 dask.array<shape=(14, 171401, 409), chunksize=(14, 11646, 409)>\n",
       "    sst_dtime                                         (time, nj, ni) timedelta64[ns] dask.array<shape=(14, 171401, 409), chunksize=(14, 11646, 409)>\n",
       "    sst_depth_dtime                                   (time, nj, ni) timedelta64[ns] dask.array<shape=(14, 171401, 409), chunksize=(14, 11646, 409)>\n",
       "    sses_bias                                         (time, nj, ni) float32 dask.array<shape=(14, 171401, 409), chunksize=(14, 11646, 409)>\n",
       "    sses_standard_deviation                           (time, nj, ni) float32 dask.array<shape=(14, 171401, 409), chunksize=(14, 11646, 409)>\n",
       "    sea_surface_temperature_total_uncertainty         (time, nj, ni) float32 dask.array<shape=(14, 171401, 409), chunksize=(14, 11646, 409)>\n",
       "    sea_surface_temperature_depth_total_uncertainty   (time, nj, ni) float32 dask.array<shape=(14, 171401, 409), chunksize=(14, 11646, 409)>\n",
       "    depth_adjustment                                  (time, nj, ni) float32 dask.array<shape=(14, 171401, 409), chunksize=(14, 11646, 409)>\n",
       "    adjustment_alt                                    (time, nj, ni) float32 dask.array<shape=(14, 171401, 409), chunksize=(14, 11646, 409)>\n",
       "    l2p_flags                                         (time, nj, ni) float32 dask.array<shape=(14, 171401, 409), chunksize=(14, 11646, 409)>\n",
       "    quality_level                                     (time, nj, ni) float32 dask.array<shape=(14, 171401, 409), chunksize=(14, 11646, 409)>\n",
       "    wind_speed                                        (time, nj, ni) float32 dask.array<shape=(14, 171401, 409), chunksize=(14, 11646, 409)>\n",
       "    sea_surface_temperature_retrieval_type            (time, nj, ni) float32 dask.array<shape=(14, 171401, 409), chunksize=(14, 11646, 409)>\n",
       "    alt_sst_retrieval_type                            (time, nj, ni) float32 dask.array<shape=(14, 171401, 409), chunksize=(14, 11646, 409)>\n",
       "    uncertainty_random                                (time, nj, ni) float32 dask.array<shape=(14, 171401, 409), chunksize=(14, 11646, 409)>\n",
       "    uncertainty_correlated                            (time, nj, ni) float32 dask.array<shape=(14, 171401, 409), chunksize=(14, 11646, 409)>\n",
       "    uncertainty_systematic                            (time, nj, ni) float32 dask.array<shape=(14, 171401, 409), chunksize=(14, 11646, 409)>\n",
       "    uncertainty_correlated_time_and_depth_adjustment  (time, nj, ni) float32 dask.array<shape=(14, 171401, 409), chunksize=(14, 11646, 409)>\n",
       "    uncertainty_random_alt                            (time, nj, ni) float32 dask.array<shape=(14, 171401, 409), chunksize=(14, 11646, 409)>\n",
       "    uncertainty_correlated_alt                        (time, nj, ni) float32 dask.array<shape=(14, 171401, 409), chunksize=(14, 11646, 409)>\n",
       "    uncertainty_systematic_alt                        (time, nj, ni) float32 dask.array<shape=(14, 171401, 409), chunksize=(14, 11646, 409)>\n",
       "    sst_sensitivity                                   (time, nj, ni) float32 dask.array<shape=(14, 171401, 409), chunksize=(14, 11646, 409)>\n",
       "    empirical_adjustment                              (time, nj, ni) float32 dask.array<shape=(14, 171401, 409), chunksize=(14, 11646, 409)>\n",
       "Attributes:\n",
       "    Conventions:                     CF-1.5, Unidata Observation Dataset v1.0\n",
       "    title:                           ESA SST CCI AVHRR17_G L2P product\n",
       "    summary:                         AVHRR17_G L2P product from the ESA SST C...\n",
       "    references:                      http://www.esa-sst-cci.org\n",
       "    institution:                     ESACCI\n",
       "    history:                         Created using GBCS library v2.9.1\n",
       "    license:                         Creative Commons Licence by attribution ...\n",
       "    id:                              AVHRR17_G-ESACCI-L2P-CDR-v2.1\n",
       "    naming_authority:                org.ghrsst\n",
       "    product_version:                 2.1\n",
       "    uuid:                            6be4c2b0-245a-11e9-bc4c-a3f89260ba71\n",
       "    tracking_id:                     6be4c2b0-245a-11e9-bc4c-a3f89260ba71\n",
       "    gds_version_id:                  2.0\n",
       "    netcdf_version_id:               4.4.1.1 of Jan 31 2018 16:33:45\n",
       "    date_created:                    20190130T064358Z\n",
       "    file_quality_level:              3\n",
       "    spatial_resolution:               4.0 km at nadir\n",
       "    start_time:                      20081231T001030Z\n",
       "    time_coverage_start:             20081231T001030Z\n",
       "    stop_time:                       20081231T014732Z\n",
       "    time_coverage_end:               20081231T014732Z\n",
       "    time_coverage_duration:          P0DT01H37M02S\n",
       "    time_coverage_resolution:        P0DT1H40M00S\n",
       "    source:                          AVHRR17_G-ESACCI-L1C-v1, ERA_INTERIM-ECM...\n",
       "    platform:                        NOAA-17\n",
       "    sensor:                          AVHRR_GAC\n",
       "    Metadata_Conventions:            Unidata Dataset Discovery v1.0\n",
       "    metadata_link:                   http://www.esa-cci.org\n",
       "    keywords:                        Oceans > Ocean Temperature > Sea Surface...\n",
       "    keywords_vocabulary:             NASA Global change Master Directory (GCM...\n",
       "    standard_name_vocabulary:        NetCDF Climate and Forecast (CF) Metadat...\n",
       "    geospatial_lat_units:            degrees_north\n",
       "    geospatial_lat_resolution:       0.01\n",
       "    geospatial_lon_units:            degrees_east\n",
       "    geospatial_lon_resolution:       0.01\n",
       "    geospatial_vertical_min:         -0.2\n",
       "    geospatial_vertical_max:         -1e-05\n",
       "    acknowledgment:                  Funded by ESA\n",
       "    creator_name:                    ESA SST CCI\n",
       "    creator_email:                   science.leader@esa-sst-cci.org\n",
       "    creator_url:                     http://www.esa-sst-cci.org\n",
       "    creator_processing_institution:  These data were produced on the JASMIN i...\n",
       "    project:                         Climate Change Initiative - European Spa...\n",
       "    publisher_name:                  ESACCI\n",
       "    publisher_url:                   http://www.esa-sst-cci.org\n",
       "    publisher_email:                 science.leader@esa-SST-cci.org\n",
       "    comment:                         For information about uncertainty estima...\n",
       "    northernmost_latitude:           90.0\n",
       "    southernmost_latitude:           -90.0\n",
       "    easternmost_longitude:           180.0\n",
       "    westernmost_longitude:           -180.0\n",
       "    geospatial_lat_min:              -90.0\n",
       "    geospatial_lat_max:              90.0\n",
       "    geospatial_lon_min:              -180.0\n",
       "    geospatial_lon_max:              180.0\n",
       "    processing_level:                L2P\n",
       "    cdm_data_type:                   swath\n",
       "    source_file:                     20081231001030-ESACCI-L1C-AVHRR17_G-fv01...\n",
       "    product_specification_version:   SST_CCI-PSD-UKMO-201-Issue-2-signed"
      ]
     },
     "execution_count": 4,
     "metadata": {},
     "output_type": "execute_result"
    }
   ],
   "source": [
    "avhrr17data"
   ]
  },
  {
   "cell_type": "code",
   "execution_count": 36,
   "metadata": {},
   "outputs": [
    {
     "data": {
      "text/plain": [
       "[array([nan, nan, nan, ..., nan, nan, nan], dtype=float32)]"
      ]
     },
     "execution_count": 36,
     "metadata": {},
     "output_type": "execute_result"
    }
   ],
   "source": [
    "totalObs = []\n",
    "totalObs.append(np.ravel(avhrr17data['sea_surface_temperature_depth']))\n",
    "totalObs"
   ]
  },
  {
   "cell_type": "code",
   "execution_count": 8,
   "metadata": {},
   "outputs": [
    {
     "data": {
      "text/plain": [
       "3"
      ]
     },
     "execution_count": 8,
     "metadata": {},
     "output_type": "execute_result"
    }
   ],
   "source": [
    "# avhrr17data['sea_surface_temperature_depth'].values.ravel()\n",
    "# np.ravel(avhrr17data['sea_surface_temperature_depth'])\n",
    "# np.mean(totalObs)\n",
    "len(totalObs)"
   ]
  },
  {
   "cell_type": "code",
   "execution_count": 19,
   "metadata": {},
   "outputs": [
    {
     "data": {
      "text/plain": [
       "[[datetime.date(2009, 1, 2), array(295.77762, dtype=float32), array(458767)]]"
      ]
     },
     "execution_count": 19,
     "metadata": {},
     "output_type": "execute_result"
    }
   ],
   "source": [
    "avhrr17Timeseries = []\n",
    "\n",
    "# avhrr17Timeseries.append(pd.to_datetime(currentDate), avhrr17data['sea_surface_temperature_depth'].mean().values, avhrr17data['sea_surface_temperature_depth'].count().values, ignore_index=True)\n",
    "# avhrr17Timeseries.append(pd.DataFrame(index=[currentDate], avhrr17data['sea_surface_temperature_depth'].mean().values, avhrr17data['sea_surface_temperature_depth'].count().values)\n",
    "avhrr17Timeseries.append([currentDate, np.mean(avhrr17data['sea_surface_temperature_depth']).values, avhrr17data['sea_surface_temperature_depth'].count().values])\n",
    "# pd.concat([pd.DataFrame([i], columns=['A']) for i in range(5)], ignore_index=True)\n",
    "avhrr17Timeseries"
   ]
  },
  {
   "cell_type": "code",
   "execution_count": 25,
   "metadata": {},
   "outputs": [
    {
     "data": {
      "text/html": [
       "<div>\n",
       "<style scoped>\n",
       "    .dataframe tbody tr th:only-of-type {\n",
       "        vertical-align: middle;\n",
       "    }\n",
       "\n",
       "    .dataframe tbody tr th {\n",
       "        vertical-align: top;\n",
       "    }\n",
       "\n",
       "    .dataframe thead th {\n",
       "        text-align: right;\n",
       "    }\n",
       "</style>\n",
       "<table border=\"1\" class=\"dataframe\">\n",
       "  <thead>\n",
       "    <tr style=\"text-align: right;\">\n",
       "      <th></th>\n",
       "      <th>Time</th>\n",
       "      <th>Mean</th>\n",
       "      <th>Count</th>\n",
       "    </tr>\n",
       "  </thead>\n",
       "  <tbody>\n",
       "    <tr>\n",
       "      <td>0</td>\n",
       "      <td>2009-01-02</td>\n",
       "      <td>295.77762</td>\n",
       "      <td>458767</td>\n",
       "    </tr>\n",
       "  </tbody>\n",
       "</table>\n",
       "</div>"
      ],
      "text/plain": [
       "         Time       Mean   Count\n",
       "0  2009-01-02  295.77762  458767"
      ]
     },
     "execution_count": 25,
     "metadata": {},
     "output_type": "execute_result"
    }
   ],
   "source": [
    "pd.DataFrame(avhrr17Timeseries, columns=['Time', 'Mean', 'Count'])"
   ]
  },
  {
   "cell_type": "code",
   "execution_count": 17,
   "metadata": {},
   "outputs": [
    {
     "data": {
      "text/plain": [
       "array(295.77762, dtype=float32)"
      ]
     },
     "execution_count": 17,
     "metadata": {},
     "output_type": "execute_result"
    }
   ],
   "source": [
    "np.nancumprod(avhrr17data['sea_surface_temperature_depth']).values"
   ]
  },
  {
   "cell_type": "code",
   "execution_count": 25,
   "metadata": {},
   "outputs": [],
   "source": [
    "new = avhrr17data.where(avhrr17data['quality_level']==5)"
   ]
  },
  {
   "cell_type": "code",
   "execution_count": 30,
   "metadata": {},
   "outputs": [
    {
     "data": {
      "text/plain": [
       "(array([2.560200e+05, 2.334240e+05, 3.032140e+05, 3.815460e+05,\n",
       "        5.540390e+05, 1.254890e+06, 2.634473e+06, 3.342969e+06,\n",
       "        2.173510e+05, 2.030000e+02]),\n",
       " array([271.15 , 275.095, 279.04 , 282.985, 286.93 , 290.875, 294.82 ,\n",
       "        298.765, 302.71 , 306.655, 310.6  ], dtype=float32),\n",
       " <a list of 10 Patch objects>)"
      ]
     },
     "execution_count": 30,
     "metadata": {},
     "output_type": "execute_result"
    },
    {
     "data": {
      "image/png": "[encoded data removed]",
      "text/plain": [
       "<Figure size 432x288 with 1 Axes>"
      ]
     },
     "metadata": {},
     "output_type": "display_data"
    }
   ],
   "source": [
    "avhrr17data['sea_surface_temperature_depth'].plot()"
   ]
  },
  {
   "cell_type": "code",
   "execution_count": null,
   "metadata": {},
   "outputs": [],
   "source": [
    "# new['sea_surface_temperature_depth'].values.ravel()\n",
    "# new['sea_surface_temperature_depth'].count().values\n",
    "new_df = new['sea_surface_temperature_depth'].to_dataframe()\n",
    "new_df"
   ]
  },
  {
   "cell_type": "code",
   "execution_count": 11,
   "metadata": {},
   "outputs": [
    {
     "data": {
      "text/plain": [
       "<xarray.Dataset>\n",
       "Dimensions:                                           (ni: 409, nj: 179856, time: 15)\n",
       "Coordinates:\n",
       "  * time                                              (time) datetime64[ns] 2009-01-01T00:03:17 ... 2009-01-01T23:36:48\n",
       "    lat                                               (nj, ni) float32 dask.array<shape=(179856, 409), chunksize=(10232, 409)>\n",
       "    lon                                               (nj, ni) float32 dask.array<shape=(179856, 409), chunksize=(10232, 409)>\n",
       "Dimensions without coordinates: ni, nj\n",
       "Data variables:\n",
       "    sea_surface_temperature                           (time, nj, ni) float32 dask.array<shape=(15, 179856, 409), chunksize=(15, 10232, 409)>\n",
       "    sea_surface_temperature_depth                     (time, nj, ni) float32 dask.array<shape=(15, 179856, 409), chunksize=(15, 10232, 409)>\n",
       "    sea_surface_temperature_depth_anomaly             (time, nj, ni) float32 dask.array<shape=(15, 179856, 409), chunksize=(15, 10232, 409)>\n",
       "    sst_dtime                                         (time, nj, ni) timedelta64[ns] dask.array<shape=(15, 179856, 409), chunksize=(15, 10232, 409)>\n",
       "    sst_depth_dtime                                   (time, nj, ni) timedelta64[ns] dask.array<shape=(15, 179856, 409), chunksize=(15, 10232, 409)>\n",
       "    sses_bias                                         (time, nj, ni) float32 dask.array<shape=(15, 179856, 409), chunksize=(15, 10232, 409)>\n",
       "    sses_standard_deviation                           (time, nj, ni) float32 dask.array<shape=(15, 179856, 409), chunksize=(15, 10232, 409)>\n",
       "    sea_surface_temperature_total_uncertainty         (time, nj, ni) float32 dask.array<shape=(15, 179856, 409), chunksize=(15, 10232, 409)>\n",
       "    sea_surface_temperature_depth_total_uncertainty   (time, nj, ni) float32 dask.array<shape=(15, 179856, 409), chunksize=(15, 10232, 409)>\n",
       "    depth_adjustment                                  (time, nj, ni) float32 dask.array<shape=(15, 179856, 409), chunksize=(15, 10232, 409)>\n",
       "    adjustment_alt                                    (time, nj, ni) float32 dask.array<shape=(15, 179856, 409), chunksize=(15, 10232, 409)>\n",
       "    l2p_flags                                         (time, nj, ni) float32 dask.array<shape=(15, 179856, 409), chunksize=(15, 10232, 409)>\n",
       "    quality_level                                     (time, nj, ni) float32 dask.array<shape=(15, 179856, 409), chunksize=(15, 10232, 409)>\n",
       "    wind_speed                                        (time, nj, ni) float32 dask.array<shape=(15, 179856, 409), chunksize=(15, 10232, 409)>\n",
       "    sea_surface_temperature_retrieval_type            (time, nj, ni) float32 dask.array<shape=(15, 179856, 409), chunksize=(15, 10232, 409)>\n",
       "    alt_sst_retrieval_type                            (time, nj, ni) float32 dask.array<shape=(15, 179856, 409), chunksize=(15, 10232, 409)>\n",
       "    uncertainty_random                                (time, nj, ni) float32 dask.array<shape=(15, 179856, 409), chunksize=(15, 10232, 409)>\n",
       "    uncertainty_correlated                            (time, nj, ni) float32 dask.array<shape=(15, 179856, 409), chunksize=(15, 10232, 409)>\n",
       "    uncertainty_systematic                            (time, nj, ni) float32 dask.array<shape=(15, 179856, 409), chunksize=(15, 10232, 409)>\n",
       "    uncertainty_correlated_time_and_depth_adjustment  (time, nj, ni) float32 dask.array<shape=(15, 179856, 409), chunksize=(15, 10232, 409)>\n",
       "    uncertainty_random_alt                            (time, nj, ni) float32 dask.array<shape=(15, 179856, 409), chunksize=(15, 10232, 409)>\n",
       "    uncertainty_correlated_alt                        (time, nj, ni) float32 dask.array<shape=(15, 179856, 409), chunksize=(15, 10232, 409)>\n",
       "    uncertainty_systematic_alt                        (time, nj, ni) float32 dask.array<shape=(15, 179856, 409), chunksize=(15, 10232, 409)>\n",
       "    sst_sensitivity                                   (time, nj, ni) float32 dask.array<shape=(15, 179856, 409), chunksize=(15, 10232, 409)>\n",
       "    empirical_adjustment                              (time, nj, ni) float32 dask.array<shape=(15, 179856, 409), chunksize=(15, 10232, 409)>\n",
       "Attributes:\n",
       "    Conventions:                     CF-1.5, Unidata Observation Dataset v1.0\n",
       "    title:                           ESA SST CCI AVHRR17_G L2P product\n",
       "    summary:                         AVHRR17_G L2P product from the ESA SST C...\n",
       "    references:                      http://www.esa-sst-cci.org\n",
       "    institution:                     ESACCI\n",
       "    history:                         Created using GBCS library v2.9.1\n",
       "    license:                         Creative Commons Licence by attribution ...\n",
       "    id:                              AVHRR17_G-ESACCI-L2P-CDR-v2.1\n",
       "    naming_authority:                org.ghrsst\n",
       "    product_version:                 2.1\n",
       "    uuid:                            80c709f2-2461-11e9-81a2-978929035182\n",
       "    tracking_id:                     80c709f2-2461-11e9-81a2-978929035182\n",
       "    gds_version_id:                  2.0\n",
       "    netcdf_version_id:               4.4.1.1 of Jan 31 2018 16:33:45\n",
       "    date_created:                    20190130T073440Z\n",
       "    file_quality_level:              3\n",
       "    spatial_resolution:               4.0 km at nadir\n",
       "    start_time:                      20090101T233649Z\n",
       "    time_coverage_start:             20090101T233649Z\n",
       "    stop_time:                       20090102T010204Z\n",
       "    time_coverage_end:               20090102T010204Z\n",
       "    time_coverage_duration:          P0DT01H25M14S\n",
       "    time_coverage_resolution:        P0DT1H40M00S\n",
       "    source:                          AVHRR17_G-ESACCI-L1C-v1, ERA_INTERIM-ECM...\n",
       "    platform:                        NOAA-17\n",
       "    sensor:                          AVHRR_GAC\n",
       "    Metadata_Conventions:            Unidata Dataset Discovery v1.0\n",
       "    metadata_link:                   http://www.esa-cci.org\n",
       "    keywords:                        Oceans > Ocean Temperature > Sea Surface...\n",
       "    keywords_vocabulary:             NASA Global change Master Directory (GCM...\n",
       "    standard_name_vocabulary:        NetCDF Climate and Forecast (CF) Metadat...\n",
       "    geospatial_lat_units:            degrees_north\n",
       "    geospatial_lat_resolution:       0.01\n",
       "    geospatial_lon_units:            degrees_east\n",
       "    geospatial_lon_resolution:       0.01\n",
       "    geospatial_vertical_min:         -0.2\n",
       "    geospatial_vertical_max:         -1e-05\n",
       "    acknowledgment:                  Funded by ESA\n",
       "    creator_name:                    ESA SST CCI\n",
       "    creator_email:                   science.leader@esa-sst-cci.org\n",
       "    creator_url:                     http://www.esa-sst-cci.org\n",
       "    creator_processing_institution:  These data were produced on the JASMIN i...\n",
       "    project:                         Climate Change Initiative - European Spa...\n",
       "    publisher_name:                  ESACCI\n",
       "    publisher_url:                   http://www.esa-sst-cci.org\n",
       "    publisher_email:                 science.leader@esa-SST-cci.org\n",
       "    comment:                         For information about uncertainty estima...\n",
       "    northernmost_latitude:           90.0\n",
       "    southernmost_latitude:           -90.0\n",
       "    easternmost_longitude:           180.0\n",
       "    westernmost_longitude:           -180.0\n",
       "    geospatial_lat_min:              -90.0\n",
       "    geospatial_lat_max:              90.0\n",
       "    geospatial_lon_min:              -180.0\n",
       "    geospatial_lon_max:              180.0\n",
       "    processing_level:                L2P\n",
       "    cdm_data_type:                   swath\n",
       "    source_file:                     20090101233649-ESACCI-L1C-AVHRR17_G-fv01...\n",
       "    product_specification_version:   SST_CCI-PSD-UKMO-201-Issue-2-signed"
      ]
     },
     "execution_count": 11,
     "metadata": {},
     "output_type": "execute_result"
    }
   ],
   "source": [
    "# avhrr17Timeseries = pd.DataFrame(columns=['Date', 'Mean', 'Count'])\n",
    "# avhrr17Timeseries\n",
    "# avhrr17data.sel(lat=slice(10,20))\n",
    "clipped = avhrr17data.where((avhrr17data.lat > -50) & (avhrr17data.lat < -10) & (avhrr17data.lon > 0) & (avhrr17data.lon < 60))\n",
    "clipped"
   ]
  },
  {
   "cell_type": "code",
   "execution_count": 13,
   "metadata": {},
   "outputs": [
    {
     "data": {
      "text/plain": [
       "(array([1.39000e+02, 2.45500e+03, 5.15200e+03, 1.59220e+04, 1.78350e+04,\n",
       "        4.94600e+04, 1.97857e+05, 4.44480e+04, 5.04330e+04, 7.50660e+04]),\n",
       " array([276.56 , 279.336, 282.112, 284.888, 287.664, 290.44 , 293.216,\n",
       "        295.992, 298.768, 301.544, 304.32 ], dtype=float32),\n",
       " <a list of 10 Patch objects>)"
      ]
     },
     "execution_count": 13,
     "metadata": {},
     "output_type": "execute_result"
    },
    {
     "data": {
      "image/png": "[encoded data removed]",
      "text/plain": [
       "<Figure size 432x288 with 1 Axes>"
      ]
     },
     "metadata": {},
     "output_type": "display_data"
    }
   ],
   "source": [
    "clipped['sea_surface_temperature_depth'].plot()"
   ]
  },
  {
   "cell_type": "code",
   "execution_count": null,
   "metadata": {},
   "outputs": [],
   "source": [
    "avhrr17data['lat']"
   ]
  },
  {
   "cell_type": "code",
   "execution_count": null,
   "metadata": {},
   "outputs": [],
   "source": [
    "print('Loading and plotting...')\n",
    "\n",
    "fig, axs = plt.subplots(1, 1,)\n",
    "nb_obs_L2 = []\n",
    "nb_obs_L3 = []\n",
    "nb_obs_L4 = []\n",
    "\n",
    "for f in save_files:\n",
    "    print f\n",
    "    \n",
    "    # try to parse simulation id from filename\n",
    "    try:\n",
    "        name = re.search('RMSE_(.+?).npz', f).group(1)\n",
    "    except AttributeError:\n",
    "        name = 'SimUnknown' # couldn't find _name.npz, default name given\n",
    "\n",
    "    simul = np.load(f, allow_pickle=True)\n",
    "    axs.plot(simul['dates'], simul['RMSE'], label=name + '; mean = ' + str(round(simul['RMSE'].mean(), 3)))\n",
    "    \n",
    "    # get longest list of no. of obs\n",
    "    if 'L2' in name and len(nb_obs_L2) < len(simul['nobs']):\n",
    "        nb_obs_L2 = simul['nobs']\n",
    "    elif 'L3' in name and len(nb_obs_L3) < len(simul['nobs']):\n",
    "        nb_obs_L3 = simul['nobs']\n",
    "    elif 'L' not in name and len(nb_obs_L4) < len(simul['nobs']):\n",
    "        nb_obs_L4 = simul['nobs']\n",
    "\n",
    "axs.set_xlabel('Date')\n",
    "axs.set_ylabel('RMSE ($^{\\circ}$C)')\n",
    "axs.tick_params(axis='x', labelrotation=20)\n",
    "axs.grid(axis='y', ls='dashed', alpha=0.3)\n",
    "# axs.legend(edgecolor='k',loc='right', bbox_to_anchor=(1.45, 0.5), ncol=1, fancybox=True, fontsize='x-small')\n",
    "axs.legend(edgecolor='k',loc='upper right', ncol=1, fancybox=True, fontsize='x-small')\n",
    "axs.set_title('EnOI time-evolution RMSE')\n",
    "\n",
    "# ploting no. of obs on secondary y-axis \n",
    "axs_twin = axs.twinx()\n",
    "axs_twin.tick_params(axis='y', labelcolor='grey')\n",
    "axs_twin.ticklabel_format(axis='y', style='sci', scilimits=(6,6), useOffset=False, useLocale=True, useMathText=True)\n",
    "if len(nb_obs_L2) > 0:\n",
    "    axs_twin.plot(simul['dates'], nb_obs_L2, 'grey', linestyle='dashed', label='L2 obs', alpha=0.3)\n",
    "if len(nb_obs_L3) > 0:\n",
    "    axs_twin.plot(simul['dates'], nb_obs_L3, 'grey', linestyle='dashdot', label='L3 obs',  alpha=0.3)\n",
    "if len(nb_obs_L4) > 0:\n",
    "    axs_twin.plot(simul['dates'], nb_obs_L4, 'grey', linestyle='solid', label='L4 obs',  alpha=0.3)\n",
    "axs_twin.set_ylabel('# obs', color='grey')\n",
    "axs_twin.legend(edgecolor='k', loc='lower center', bbox_to_anchor=(0.5, -0.4), ncol=3, fancybox=True, fontsize='x-small')\n",
    "\n",
    "# following two lines fix z-order\n",
    "axs.set_zorder(axs_twin.get_zorder()+1)\n",
    "axs.patch.set_visible(False)\n",
    "\n",
    "plt.tight_layout()\n",
    "\n",
    "# fig.savefig('RMSE_all.png', dpi=300, bbox_inches='tight')\n",
    "\n",
    "print('Figure plotted and saved -> RMSE_all.png')\n"
   ]
  }
 ],
 "metadata": {
  "kernelspec": {
   "display_name": "Python 3",
   "language": "python",
   "name": "python3"
  },
  "language_info": {
   "codemirror_mode": {
    "name": "ipython",
    "version": 3
   },
   "file_extension": ".py",
   "mimetype": "text/x-python",
   "name": "python",
   "nbconvert_exporter": "python",
   "pygments_lexer": "ipython3",
   "version": "3.7.6"
  }
 },
 "nbformat": 4,
 "nbformat_minor": 2
}
