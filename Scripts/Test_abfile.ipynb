{
 "cells": [
  {
   "cell_type": "code",
   "execution_count": 1,
   "metadata": {
    "ExecuteTime": {
     "end_time": "2020-11-17T15:07:00.699804Z",
     "start_time": "2020-11-17T15:07:00.573084Z"
    }
   },
   "outputs": [],
   "source": [
    "import numpy as np\n",
    "import abfile.abfile as abf\n",
    "# %run my_functions.py"
   ]
  },
  {
   "cell_type": "code",
   "execution_count": 5,
   "metadata": {},
   "outputs": [
    {
     "name": "stdout",
     "output_type": "stream",
     "text": [
      "400\n"
     ]
    },
    {
     "data": {
      "image/png": "[encoded data removed]",
      "text/plain": [
       "<Figure size 432x288 with 2 Axes>"
      ]
     },
     "metadata": {
      "needs_background": "light"
     },
     "output_type": "display_data"
    },
    {
     "name": "stdout",
     "output_type": "stream",
     "text": [
      "0\n"
     ]
    }
   ],
   "source": [
    "\n",
    "#AS: There seem to be a problem with the abfile file read python packge.\n",
    "# load the longitude and lattitude and depth information\n",
    "regionfile='/Users/annettes/hycom/NERSC-HYCOM-CICE/TP2a0.10/topo/regional.grid.a'\n",
    "ab = abf.ABFileGrid(regionfile,\"r\")\n",
    "idm=ab.idm; jdm=ab.jdm\n",
    "print(idm)\n",
    "#mlon=np.zeros((jdm,idm))\n",
    "#mlat=np.zeros((idm,jdm))\n",
    "mlon=ab.read_field('plon')\n",
    "mlat=ab.read_field('plat')\n",
    "qlon=ab.read_field('qlon')\n",
    "qlat=ab.read_field('qlat')\n",
    "dx=ab.read_field('scpx')\n",
    "dy=ab.read_field('scpy')\n",
    "ab.close()\n",
    "#\n",
    "##depthfile=\\\n",
    "##'/Users/annettes/hycom/NERSC-HYCOM-CICE/TP2a0.10/topo/regional.depth.a'\n",
    "##ab=abf.ABFileBathy(depthfile,\"r\",idm=idm,jdm=jdm)\n",
    "#mdep[:,:]=ab.read_field('depth')\n",
    "#I=np.where(mdep>10e10); mdep[I]=0;\n",
    "#mdep = np.ma.masked_where(np.abs(mlon)>=170.0,mdep)\n",
    "#mdep = np.ma.masked_where(np.abs(mlat)>=89.0,mdep)\n",
    "#mdep = np.ma.masked_where(mdep==0.0,mdep)\n",
    "#\n",
    "fig = plt.figure(figsize=[6,4])\n",
    "cs = plt.contourf(mlat)\n",
    "cbar = plt.colorbar(cs)\n",
    "plt.show()\n",
    "I=np.where(dx.mask==True)\n",
    "print(np.size(I))"
   ]
  },
  {
   "cell_type": "code",
   "execution_count": 4,
   "metadata": {},
   "outputs": [
    {
     "name": "stdout",
     "output_type": "stream",
     "text": [
      "(array([379, 379, 379]), array([397, 398, 399]))\n"
     ]
    }
   ],
   "source": [
    "print(I[:])"
   ]
  },
  {
   "cell_type": "code",
   "execution_count": 24,
   "metadata": {},
   "outputs": [
    {
     "name": "stdout",
     "output_type": "stream",
     "text": [
      "  400   'idm   '\n",
      "  380   'jdm   '\n",
      "   -1   'mapflg'\n",
      "plon:  min,max =      -179.99173        179.99991\n",
      "plat:  min,max =       39.055974        89.935779\n",
      "qlon:  min,max =      -179.99989        179.99487\n",
      "qlat:  min,max =       38.941588        89.926451\n",
      "ulon:  min,max =      -179.99638        179.99996\n",
      "ulat:  min,max =       39.005497        89.903776\n",
      "vlon:  min,max =      -179.99801        179.99941\n",
      "vlat:  min,max =       38.991993        89.983515\n",
      "pang:  min,max =      -3.1415874        3.1415873\n",
      "scpx:  min,max =       12858.014        20443.952\n",
      "scpy:  min,max =       12858.016        20443.952\n",
      "scqx:  min,max =       12862.247        20446.326\n",
      "scqy:  min,max =       12862.249        20446.326\n",
      "scux:  min,max =       12853.352        20443.941\n",
      "scuy:  min,max =       12853.354        20443.941\n",
      "scvx:  min,max =       12866.916        20446.337\n",
      "scvy:  min,max =       12866.918        20446.337\n",
      "cori:  min,max =   9.1666044e-05    0.00014584235\n",
      "pasp:  min,max =      0.99999972        1.0000001\n",
      "\u001b[K\u001b[?1l\u001b>"
     ]
    }
   ],
   "source": [
    "!more /Users/annettes/hycom/NERSC-HYCOM-CICE/TP2a0.10/topo/regional.grid.b"
   ]
  }
 ],
 "metadata": {
  "kernelspec": {
   "display_name": "Python 2",
   "language": "python",
   "name": "python2"
  },
  "language_info": {
   "codemirror_mode": {
    "name": "ipython",
    "version": 2
   },
   "file_extension": ".py",
   "mimetype": "text/x-python",
   "name": "python",
   "nbconvert_exporter": "python",
   "pygments_lexer": "ipython2",
   "version": "2.7.16"
  }
 },
 "nbformat": 4,
 "nbformat_minor": 4
}
